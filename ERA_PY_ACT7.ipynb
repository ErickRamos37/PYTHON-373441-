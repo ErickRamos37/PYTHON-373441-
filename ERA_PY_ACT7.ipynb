{
  "nbformat": 4,
  "nbformat_minor": 0,
  "metadata": {
    "colab": {
      "provenance": [],
      "authorship_tag": "ABX9TyMZAn9DAM0O89aRhZdPed4x",
      "include_colab_link": true
    },
    "kernelspec": {
      "name": "python3",
      "display_name": "Python 3"
    },
    "language_info": {
      "name": "python"
    }
  },
  "cells": [
    {
      "cell_type": "markdown",
      "metadata": {
        "id": "view-in-github",
        "colab_type": "text"
      },
      "source": [
        "<a href=\"https://colab.research.google.com/github/ErickRamos37/PYTHON-373441-/blob/main/ERA_PY_ACT7.ipynb\" target=\"_parent\"><img src=\"https://colab.research.google.com/assets/colab-badge.svg\" alt=\"Open In Colab\"/></a>"
      ]
    },
    {
      "cell_type": "markdown",
      "source": [
        "#ACTIVIDAD 7\n",
        "##ERA_PY_ACT7"
      ],
      "metadata": {
        "id": "DkmkfFdNoQ_T"
      }
    },
    {
      "cell_type": "markdown",
      "source": [
        "1.  Función que utilice una lista con los nombres de tus mascotas, o artistas favoritos, (minimo 5, maximo 10) imprimir las cadenas y la cantidad de caracteres de cada cadena.  \n",
        "\n",
        "EJEMPLO SALIDA:\n",
        "\n",
        "[0]SCARLETT --> 8 CARACTERES\n",
        "\n",
        "[1]GATINA --> 6 CARACTERES\n",
        "\n",
        "[2]PELUSA --> 6 CARACTERES\n",
        "\n",
        "[3]PELUSINA --> 8 CARACTERES\n",
        "\n",
        "[4]MILO --> 4 CARACTERES\n",
        "\n",
        "[5]KHALIFA --> 7 CARACTERES"
      ],
      "metadata": {
        "id": "DGCFmleEopfm"
      }
    },
    {
      "cell_type": "code",
      "source": [
        "def caracteres():\n",
        "    i = 1\n",
        "    lista = []\n",
        "    while True:\n",
        "        try:\n",
        "            nombre = input(f\"Ingresa el nombre {i} (fin para salir): \")\n",
        "            if nombre == \"fin\":\n",
        "                if i >= 5:\n",
        "                    i = 1\n",
        "                    cadena = len(lista)\n",
        "                    for cadena in lista:\n",
        "                        print (f\" {[i]}{cadena} --> {len(cadena)} CARACTERES\")\n",
        "                        i=i+1\n",
        "                    break\n",
        "                else:\n",
        "                    raise ValueError\n",
        "            elif not nombre.isalpha():\n",
        "                raise ValueError\n",
        "            if i >= 10:\n",
        "                i = 1\n",
        "                cadena = len(lista)\n",
        "                for cadena in lista:\n",
        "                    print (f\" {[i]}{cadena} --> {len(cadena)} CARACTERES\")\n",
        "                    i=i+1\n",
        "                break\n",
        "        except ValueError:\n",
        "            print(\"El nombre solo debe contener letras y ingresar un minimo de 5 nombres.\")\n",
        "            continue\n",
        "        else:\n",
        "            lista.append(nombre)\n",
        "            i = i + 1"
      ],
      "metadata": {
        "id": "Ryo4lpL3ov1r"
      },
      "execution_count": null,
      "outputs": []
    },
    {
      "cell_type": "code",
      "source": [
        "caracteres()"
      ],
      "metadata": {
        "colab": {
          "base_uri": "https://localhost:8080/"
        },
        "id": "YV5ikgYg4QmZ",
        "outputId": "6c8b6a11-e92b-4e7b-dc78-89545e746ecb"
      },
      "execution_count": null,
      "outputs": [
        {
          "output_type": "stream",
          "name": "stdout",
          "text": [
            "Ingresa el nombre 1 (fin para salir): sdv\n",
            "Ingresa el nombre 2 (fin para salir): asc\n",
            "Ingresa el nombre 3 (fin para salir): asc\n",
            "Ingresa el nombre 4 (fin para salir): asc\n",
            "Ingresa el nombre 5 (fin para salir): asc\n",
            "Ingresa el nombre 6 (fin para salir): fin\n",
            " [1]sdv --> 3 CARACTERES\n",
            " [2]asc --> 3 CARACTERES\n",
            " [3]asc --> 3 CARACTERES\n",
            " [4]asc --> 3 CARACTERES\n",
            " [5]asc --> 3 CARACTERES\n"
          ]
        }
      ]
    },
    {
      "cell_type": "markdown",
      "source": [
        "2.  Programa que utilice 2 funciones,\n",
        "\n",
        "*   Función que genere y regrese una lista con 10 números aleatorios entre el 30 y 50 (no repetidos).\n",
        "*   Función que reciba una lista , Imprimir la lista (Indice y Valor).\n",
        "\n",
        "\n",
        " Mandar llamar la función e imprimir toda la lista."
      ],
      "metadata": {
        "id": "ZdZmlSmdBWOx"
      }
    },
    {
      "cell_type": "code",
      "source": [
        "def list_random():\n",
        "    import random\n",
        "    lista = []\n",
        "    for i in range(10):\n",
        "        numero_aleatorio = random.randint(30, 50)\n",
        "        while numero_aleatorio in lista:\n",
        "            numero_aleatorio = random.randint(30, 50)\n",
        "        lista.append(numero_aleatorio)\n",
        "    return lista"
      ],
      "metadata": {
        "id": "Y_YuBuvoC2Zj"
      },
      "execution_count": null,
      "outputs": []
    },
    {
      "cell_type": "code",
      "source": [
        "def imprimir_list(lista):\n",
        "    carac = len(lista)\n",
        "    i = 1\n",
        "    for carac in lista:\n",
        "        print (f\" {[i]} --> {carac}\")\n",
        "        i=i+1"
      ],
      "metadata": {
        "id": "8KPBxLUFETy2"
      },
      "execution_count": null,
      "outputs": []
    },
    {
      "cell_type": "code",
      "source": [
        "lista = []\n",
        "lista = list_random()\n",
        "imprimir_list(lista)"
      ],
      "metadata": {
        "colab": {
          "base_uri": "https://localhost:8080/"
        },
        "id": "ovnoRWkEBwJF",
        "outputId": "759409ad-77d9-43c5-c6c8-7e8ee1946e61"
      },
      "execution_count": null,
      "outputs": [
        {
          "output_type": "stream",
          "name": "stdout",
          "text": [
            " [1] --> 35\n",
            " [2] --> 39\n",
            " [3] --> 36\n",
            " [4] --> 40\n",
            " [5] --> 45\n",
            " [6] --> 38\n",
            " [7] --> 41\n",
            " [8] --> 31\n",
            " [9] --> 43\n",
            " [10] --> 37\n"
          ]
        }
      ]
    },
    {
      "cell_type": "markdown",
      "source": [
        "3.  Escribe una función que reciba dos listas de números del mismo tamaño y calcule la suma de los elementos correspondientes de cada lista. (regresar una nueva lista) . Luego, muestra una lista con los resultados de cada suma. Nota: si las listas no son del mismo tamaño mandar msge y utilizar el tamaño de la lista mas pequeña."
      ],
      "metadata": {
        "id": "GlGjbRa6Ifkc"
      }
    },
    {
      "cell_type": "code",
      "source": [
        "def llenar_lista():\n",
        "    i = 1\n",
        "    lista = []\n",
        "    print(\"Ingresa un valor los valores o 0 Para salir\")\n",
        "    while True:\n",
        "        try:\n",
        "            nombre = int(input(f\"{i} --> \"))\n",
        "            if nombre == 0:\n",
        "                print(f\"El tamaño de la lista es: {len(lista)}\")\n",
        "                return lista\n",
        "                break\n",
        "        except ValueError:\n",
        "            print(\"Error: Ingresa solo números enteros\")\n",
        "            continue\n",
        "        else:\n",
        "            lista.append(nombre)\n",
        "            i = i + 1"
      ],
      "metadata": {
        "id": "hO5DYXRrIyml"
      },
      "execution_count": null,
      "outputs": []
    },
    {
      "cell_type": "code",
      "source": [
        "def Suma_list(lis1, lis2):\n",
        "    suma = []\n",
        "    tam1 = len(lis1)\n",
        "    tam2 = len(lis2)\n",
        "    if tam1 == tam2:\n",
        "        for i in range(tam1):\n",
        "            suma.append(lis1[i] + lis2[i])\n",
        "    elif tam1 > tam2:\n",
        "        print(f\"La lista 2 es la tiene {tam2} la suma tendra el mismo tamaño\")\n",
        "        for i in range(tam2):\n",
        "            suma.append(lis1[i] + lis2[i])\n",
        "    else:\n",
        "        print(f\"La lista 1 es la tiene {tam2} la suma tendra el mismo tamaño\")\n",
        "        for i in range(tam1):\n",
        "            suma.append(lis1[i] + lis2[i])\n",
        "    return suma"
      ],
      "metadata": {
        "id": "mXuAOy-aOEw8"
      },
      "execution_count": null,
      "outputs": []
    },
    {
      "cell_type": "code",
      "source": [
        "lista_1 = []\n",
        "lista_2 = []\n",
        "lista_3 = []\n",
        "print(\"Llenar lista 1: \")\n",
        "lista_1 = llenar_lista()\n",
        "print(\"\\nLlenar lista 2: \")\n",
        "lista_2 = llenar_lista()\n",
        "print(\"\\nLa suma de las lista es: \")\n",
        "lista_3 = Suma_list(lista_1, lista_2)\n",
        "print(lista_3)"
      ],
      "metadata": {
        "colab": {
          "base_uri": "https://localhost:8080/"
        },
        "id": "lbmy9PFpMvP6",
        "outputId": "6d6bf609-0ada-4fce-93a4-b588cc488003"
      },
      "execution_count": null,
      "outputs": [
        {
          "output_type": "stream",
          "name": "stdout",
          "text": [
            "Llenar lista 1: \n",
            "Ingresa un valor los valores o 0 Para salir\n",
            "1 --> 10\n",
            "2 --> 10\n",
            "3 --> 10\n",
            "4 --> 0\n",
            "El tamaño de la lista es: 3\n",
            "\n",
            "Llenar lista 2: \n",
            "Ingresa un valor los valores o 0 Para salir\n",
            "1 --> 10\n",
            "2 --> 10\n",
            "3 --> 10\n",
            "4 --> 10\n",
            "5 --> 10\n",
            "6 --> 10\n",
            "7 --> 10\n",
            "8 --> 0.\n",
            "Error: Ingresa solo números enteros\n",
            "8 --> 0\n",
            "El tamaño de la lista es: 7\n",
            "\n",
            "La suma de las lista es: \n",
            "La lista 1 es la tiene 7 la suma tendra el mismo tamaño\n",
            "[20, 20, 20]\n"
          ]
        }
      ]
    },
    {
      "cell_type": "markdown",
      "source": [
        "4.  Escribe una función llamada eliminar_duplicados que reciba una lista como parámetro y elimine los elementos duplicados. El resultado debe ser una nueva lista sin duplicados. Pide al usuario que ingrese una lista y luego llama a la función eliminar_duplicados para mostrar la lista sin duplicados. (Solo Numeros enteros, validar)"
      ],
      "metadata": {
        "id": "WfC7E0jARUGT"
      }
    },
    {
      "cell_type": "code",
      "source": [
        "def eliminar_duplicados(lista):\n",
        "    i = 0\n",
        "    tamaño = len(lista)\n",
        "    lista.sort()\n",
        "    for i in range(len(lista) - 2):\n",
        "        num1 = lista[i]\n",
        "        num2 = lista[i + 1]\n",
        "        if num1 == num2:\n",
        "            print(f\"Valor {lista[i+1]} duplicado\")\n",
        "            lista.pop(i+1)\n",
        "    print(f\"Lista final: {lista}\")"
      ],
      "metadata": {
        "id": "FG9DFoLDRS0y"
      },
      "execution_count": null,
      "outputs": []
    },
    {
      "cell_type": "code",
      "source": [
        "lista = []\n",
        "lista = llenar_lista()\n",
        "eliminar_duplicados(lista)"
      ],
      "metadata": {
        "id": "lLkQyxIDRe4T",
        "colab": {
          "base_uri": "https://localhost:8080/"
        },
        "outputId": "cc325a0d-99e8-44b9-fb33-b28f15eaf66e"
      },
      "execution_count": null,
      "outputs": [
        {
          "output_type": "stream",
          "name": "stdout",
          "text": [
            "Ingresa un valor los valores o 0 Para salir\n",
            "1 --> 10\n",
            "2 --> 20\n",
            "3 --> 30\n",
            "4 --> 40.\n",
            "Error: Ingresa solo números enteros\n",
            "4 --> 40\n",
            "5 --> 60\n",
            "6 --> 60\n",
            "7 --> 10\n",
            "8 --> 0\n",
            "El tamaño de la lista es: 7\n",
            "7\n",
            "[10, 10, 20, 30, 40, 60, 60]\n",
            "Valor 10 duplicado\n",
            "Valor 60 duplicado\n",
            "Lista final: [10, 20, 30, 40, 60]\n"
          ]
        }
      ]
    },
    {
      "cell_type": "markdown",
      "source": [
        "5.  Escribe una función que calcule la media y la mediana de una lista de números enteros.\n",
        "\n",
        "La media es la suma de todos los elementos y dividido entre la cantidad de elementos\n",
        "\n",
        "La mediana es el valor que queda en la mitad de la lista cuando se ordena de forma ascendente. Si la lista tiene un número par de elementos, la mediana se calcula como el promedio de los dos valores centrales. Puedes utilizar el método sort() para ordenar la lista y luego calcular la mediana según el tamaño de la lista."
      ],
      "metadata": {
        "id": "nb79bi0O0g3k"
      }
    },
    {
      "cell_type": "code",
      "source": [
        "def media_mediana(lista):\n",
        "    lista.sort()\n",
        "    media = 0\n",
        "    for i in range(len(lista)):\n",
        "        media = media + lista[i]\n",
        "    media = media / len(lista)\n",
        "    print(f\"La media es: {media}\")\n",
        "\n",
        "    lista.sort()\n",
        "    longitud = len(lista)\n",
        "    mitad = longitud // 2\n",
        "    if longitud % 2 == 0:\n",
        "        mediana = (lista[mitad] + lista[mitad - 1]) / 2\n",
        "        print(f\"La mediana es: {mediana}\")\n",
        "    else:\n",
        "        print(f\"La mediana es: {lista[mitad]}\")"
      ],
      "metadata": {
        "id": "qNoLHf_c06qm"
      },
      "execution_count": null,
      "outputs": []
    },
    {
      "cell_type": "code",
      "source": [
        "lista = []\n",
        "lista = llenar_lista()\n",
        "media_mediana(lista)"
      ],
      "metadata": {
        "colab": {
          "base_uri": "https://localhost:8080/"
        },
        "id": "NEKxjqyu5_SK",
        "outputId": "1d16ccfa-3aaa-40f2-b9dc-2b573625679e"
      },
      "execution_count": null,
      "outputs": [
        {
          "output_type": "stream",
          "name": "stdout",
          "text": [
            "Ingresa un valor los valores o 0 Para salir\n",
            "1 --> 10\n",
            "2 --> 20\n",
            "3 --> 30\n",
            "4 --> 40\n",
            "5 --> 0\n",
            "El tamaño de la lista es: 4\n",
            "La media es: 25.0\n",
            "La mediana es: 25.0\n"
          ]
        }
      ]
    }
  ]
}