{
  "nbformat": 4,
  "nbformat_minor": 0,
  "metadata": {
    "colab": {
      "provenance": [],
      "authorship_tag": "ABX9TyN6/TTWzJXdFVsvqwM8Kz2d",
      "include_colab_link": true
    },
    "kernelspec": {
      "name": "python3",
      "display_name": "Python 3"
    },
    "language_info": {
      "name": "python"
    }
  },
  "cells": [
    {
      "cell_type": "markdown",
      "metadata": {
        "id": "view-in-github",
        "colab_type": "text"
      },
      "source": [
        "<a href=\"https://colab.research.google.com/github/ErickRamos37/PYTHON-373441-/blob/main/ERA_PY_ACT6.ipynb\" target=\"_parent\"><img src=\"https://colab.research.google.com/assets/colab-badge.svg\" alt=\"Open In Colab\"/></a>"
      ]
    },
    {
      "cell_type": "markdown",
      "source": [
        "#ACTIVIDAD 6\n",
        "##Ciclos Y Funciones\n",
        "##Erick Ramos Alvardo   373441\n",
        "###ERA_PY_ACT6\n",
        "Fecha: 11/03/2024"
      ],
      "metadata": {
        "id": "OZgDOYlKXxFy"
      }
    },
    {
      "cell_type": "markdown",
      "source": [
        "##Leer n cantidad de numeros\n",
        "###LeerNum\n",
        "1.  FUNCIÓN QUE LEA n CANTIDAD DE NÚMEROS HASTA QUE EL USUARIO LO DESEE, DESPLEGAR LA SUMA DE LOS NÚMEROS, MEDIA Y VALOR DE LOS NÚMEROS MAYORES Y MENORES.\n",
        "\n",
        "Fecha: 11/03/2024"
      ],
      "metadata": {
        "id": "kdJjLtvCpyT1"
      }
    },
    {
      "cell_type": "code",
      "source": [
        "def LeerNum():\n",
        "    i = 1\n",
        "    suma = 0\n",
        "    mayor = 0\n",
        "    menor = 0\n",
        "    media = 0\n",
        "    while True:\n",
        "        try:\n",
        "            x = int(input(f\"{i}. Ingresa un numero o 0 para salir: \"))\n",
        "            if x == 0:\n",
        "                media = suma / i\n",
        "                print(f\"La suma es: {suma}\")\n",
        "                print(f\"La media es: {media}\")\n",
        "                print(f\"El número mayor es: {mayor}\")\n",
        "                print(f\"El número menor es: {menor}\")\n",
        "                break\n",
        "        except:\n",
        "            continue\n",
        "        else:\n",
        "            if x > mayor:\n",
        "                mayor = x\n",
        "            if x < menor:\n",
        "                menor = x\n",
        "            elif menor == 0:\n",
        "                menor = x\n",
        "            suma = suma + x\n",
        "            i+=1"
      ],
      "metadata": {
        "id": "Yk_oNxKjpwLJ"
      },
      "execution_count": 77,
      "outputs": []
    },
    {
      "cell_type": "markdown",
      "source": [
        "##Generador de Números\n",
        "###GeneraNum\n",
        "2.  FUNCIÓN QUE GENERE 15 NÚMEROS IMPARES ENTRE 10 Y 60 o MÁXIMO DE 25 NÚMEROS. DESPLEGAR LA MEDIA DE LOS PARES Y MEDIA DE IMPARES.\n",
        "\n",
        "Fecha: 16/03/2024"
      ],
      "metadata": {
        "id": "ueAnUzqg5JRy"
      }
    },
    {
      "cell_type": "code",
      "source": [
        "def GeneraNum():\n",
        "    from random import randrange\n",
        "    print(\"\\tNúmero impares\")\n",
        "    impSum = 0\n",
        "    parSum = 0\n",
        "    for i in range(15):\n",
        "        impar = randrange(10, 60, 2)\n",
        "        print(f\"Numero {i + 1} impar: {impar}\")\n",
        "        impSum = impSum + impar\n",
        "    else:\n",
        "        impMed = impSum / (i + 1)\n",
        "        print(f\"\\tLa suma de los numero impares es: {impSum}\")\n",
        "        print(f\"\\tLa media de los impares es: {impMed}\")\n",
        "    print(\"\\n\\tNúmero pares\")\n",
        "    i = 1\n",
        "    while i < 10:\n",
        "        try:\n",
        "            par = randrange(10, 60)\n",
        "        except:\n",
        "            continue\n",
        "        else:\n",
        "            if par % 2 == 0:\n",
        "                print(f\"Numero {i + 1} par: {par}\")\n",
        "                parSum = parSum + par\n",
        "                i += 1\n",
        "    else:\n",
        "        parMed = parSum / i\n",
        "        print(f\"\\tLa suma de los numeros pares es: {parSum}\")\n",
        "        print(f\"\\tLa media de los pares es: {parMed}\")"
      ],
      "metadata": {
        "id": "pKLM6GA65Z41"
      },
      "execution_count": 87,
      "outputs": []
    },
    {
      "cell_type": "markdown",
      "source": [
        "##Lee un Rango de Números\n",
        "###ValiNum\n",
        "3.  FUNCIÓN QUE SIRVA PARA LEER UN RANGO DADO POR EL USUARIO. REPETIR ESTA ACCIÓN HASTA QUE EL USUARIO LO DESEE, DESPLEGAR CANTIDAD DE NUMEROS Y PROMEDIO DE LOS NUMEROS.\n",
        "\n",
        "Fecha: 16/03/2024"
      ],
      "metadata": {
        "id": "8dpVVRWCIqcH"
      }
    },
    {
      "cell_type": "code",
      "source": [
        "def ValiNum(ri = 0, rf = 0, msge = \"Ingresa un número\"):\n",
        "    i = 1\n",
        "    suma = 0\n",
        "    while True:\n",
        "        try:\n",
        "            num = int(input(f\"{i}. {msge} entre {ri} y {rf} o 0 para salir: \"))\n",
        "            if num == 0:\n",
        "                prom = suma / (i - 1)\n",
        "                print(f\"La Cantidad de valores es: {i - 1}\")\n",
        "                print(f\"El promedio es: {prom}\")\n",
        "                break\n",
        "            elif num < ri:\n",
        "                print(f\"Error: Fuera de rango. Ingresa un número entre {ri} y {rf}\")\n",
        "                continue\n",
        "            elif  num > rf:\n",
        "                print(f\"Error: Fuera de rango. Ingresa un número entre {ri} y {rf}\")\n",
        "                continue\n",
        "\n",
        "        except ValueError:\n",
        "            print(\"Error: Ingresa un número válido.\")\n",
        "            continue\n",
        "        else:\n",
        "            i += 1\n",
        "            suma = suma + num"
      ],
      "metadata": {
        "id": "5sk9VP1IJIVR"
      },
      "execution_count": 74,
      "outputs": []
    },
    {
      "cell_type": "markdown",
      "source": [
        "##Calcula el Área de un Triángulo\n",
        "###AreaTrian\n",
        "4.  FUNCIÓN QUE RECIBA COMO PARÁMETRO LOS VALORES PARA EL ÁREA DE UN TRIANGULO Y RETORNE SU RESULTADO\n",
        "\n",
        "Fecha: 17/03/2024"
      ],
      "metadata": {
        "id": "SeLHLCBAYcmf"
      }
    },
    {
      "cell_type": "code",
      "source": [
        "def triangulo():\n",
        "    a = ValiInt(tip = 2, msg = \"la altura del triángulo:\")\n",
        "    b = ValiInt(tip = 2, msg = \"la basé del triángulo:\")\n",
        "    area = AreaTrian(a, b)\n",
        "    print(f\"El área del triángulo es: {area}\")"
      ],
      "metadata": {
        "id": "fa2ONubj12n8"
      },
      "execution_count": 73,
      "outputs": []
    },
    {
      "cell_type": "code",
      "source": [
        "def AreaTrian(a, b):\n",
        "    area = b * a / 2\n",
        "    return area"
      ],
      "metadata": {
        "id": "ucO77FluYc_U"
      },
      "execution_count": 61,
      "outputs": []
    },
    {
      "cell_type": "markdown",
      "source": [
        "##Evalua el a un Alumno\n",
        "###EvaluaAlum\n",
        "5.  FUNCION QUE SIRVA QUE SIRVA PARA EVALUAR EL PROMEDIO DE 3 CALIFICACIONES DADAS, SI EL USUARIO SU CALIFICACION ES APROBADA MANDAR MSGE QUE DIGA \"felicidades avanzas al siguiente semestre\", SI LA CALIFICACIONE ESTA REPROBADA EL MENSAGE \"repetir materia \" EL ALUMNO TENDRA UN MAXIMO DE CURSAR 3 VESES LA MATERIA, SI LA REPRUEBA 3 VESES MANDAR MSGE \" lastima estas fuera de la UABC\"\n",
        "\n",
        "Fecha: 17/03/2024"
      ],
      "metadata": {
        "id": "GZht-BmadMEv"
      }
    },
    {
      "cell_type": "code",
      "source": [
        "def EvaluaAlum():\n",
        "    ri = 0\n",
        "    rf = 100\n",
        "    i = 1\n",
        "    j = 1\n",
        "    suma = 0\n",
        "    while j <= 3:\n",
        "        try:\n",
        "            cal = int(input(f\"Ingresa la calificación {i} entre {ri} y {rf}: \"))\n",
        "            if cal < ri:\n",
        "                print(f\"Error: Fuera de rango. Ingresa un número entre {ri} y {rf}\")\n",
        "                continue\n",
        "            if  cal > rf:\n",
        "                print(f\"Error: Fuera de rango. Ingresa un número entre {ri} y {rf}\")\n",
        "                continue\n",
        "\n",
        "        except ValueError:\n",
        "            print(\"Error: Ingresa un número válido.\")\n",
        "            continue\n",
        "        else:\n",
        "            suma = suma + cal\n",
        "            if i >= 3:\n",
        "                prom = suma / i\n",
        "                print(f\"El promedio es: {prom}\")\n",
        "                if prom < 60:\n",
        "                    j += 1\n",
        "                    suma = 0\n",
        "                    i = 0\n",
        "                    if j > 3:\n",
        "                        print(\"Lo sentíamos estas fuera de la UABC\")\n",
        "                        msge()\n",
        "                        break\n",
        "                    else:\n",
        "                        print(\"Lo sentimos repetiras la materia\")\n",
        "                else:\n",
        "                    print(\"Felicidades avanzas al siguiente semestre\")\n",
        "                    msge()\n",
        "                    break\n",
        "            i += 1"
      ],
      "metadata": {
        "id": "J-3kvtebdu_K"
      },
      "execution_count": 81,
      "outputs": []
    },
    {
      "cell_type": "markdown",
      "source": [
        "##Validar numeros enteros y flotantes\n",
        "###Vali_int_float\n",
        "Válida números enteros."
      ],
      "metadata": {
        "id": "Fgq7Qj-PKiMc"
      }
    },
    {
      "cell_type": "code",
      "source": [
        "def ValiInt(tip = 1, msg = \"un número enteró\"):\n",
        "    while True:\n",
        "        try:\n",
        "            if tip == 1:\n",
        "                x = int(input(f\"Ingresa {msg} \"))\n",
        "            else:\n",
        "                x = float(input(f\"Ingresa {msg} \"))\n",
        "\n",
        "        except ValueError:\n",
        "            print(\"Error: Ingresa un número válido.\")\n",
        "            continue\n",
        "        break\n",
        "    return x\n"
      ],
      "metadata": {
        "id": "2JKlcOTmKvhP"
      },
      "execution_count": 82,
      "outputs": []
    },
    {
      "cell_type": "markdown",
      "source": [
        "##FUNCIONES PARA SER LLAMADAS EN EL MENU"
      ],
      "metadata": {
        "id": "RkPY8fwS1TJf"
      }
    },
    {
      "cell_type": "code",
      "execution_count": 101,
      "metadata": {
        "id": "PIpFwOhGXwgg"
      },
      "outputs": [],
      "source": [
        "def menu():\n",
        "    while True:\n",
        "        try:\n",
        "            op = int(input(\"Elige una opción: \"))\n",
        "        except ValueError:\n",
        "            print(\"Error: Ingresa un valor entero positivo\")\n",
        "            continue\n",
        "        if op > 5:\n",
        "            print(\"Error: Valor fuera de rango\")\n",
        "        if op < 0:\n",
        "            print(\"Error: Valor fuera de rango\")\n",
        "        else:\n",
        "            if op == 1:\n",
        "                LeerNum()\n",
        "            elif op == 2:\n",
        "                GeneraNum()\n",
        "            elif op == 3:\n",
        "                ri = ValiInt(msg = \"el rango inicial:\")\n",
        "                rf = ValiInt(msg = \"el rango final:\")\n",
        "                ValiNum(ri, rf)\n",
        "            elif op == 4:\n",
        "                triangulo()\n",
        "            elif op == 5:\n",
        "                EvaluaAlum()\n",
        "            elif op == 0:\n",
        "                print(\"Seleccionaste salir\")\n",
        "                break\n",
        "        msge()"
      ]
    },
    {
      "cell_type": "code",
      "source": [
        "def msge():\n",
        "    from IPython.display import clear_output\n",
        "    input(\"Preciona enter para continuar\")\n",
        "    clear_output()\n",
        "    print(\"\\tMenú\")\n",
        "    print(\"1.   Leer n cantidad de números\")\n",
        "    print(\"2.   Números impares\")\n",
        "    print(\"3.   Leer numeros dentro de un rango\")\n",
        "    print(\"4.   Area de un triángulo\")\n",
        "    print(\"5.   Evaluación de alumnos\")\n",
        "    print(\"0.   Salir\")\n",
        "    menu()"
      ],
      "metadata": {
        "id": "Da7nqz2znCfM"
      },
      "execution_count": 95,
      "outputs": []
    },
    {
      "cell_type": "code",
      "source": [
        "msge()"
      ],
      "metadata": {
        "colab": {
          "base_uri": "https://localhost:8080/",
          "height": 0
        },
        "id": "ZTLpSL_K28uj",
        "outputId": "391b8ede-8aa2-4bb2-84a4-6ee9e668f888"
      },
      "execution_count": 104,
      "outputs": [
        {
          "output_type": "stream",
          "name": "stdout",
          "text": [
            "\tMenú\n",
            "1.   Leer n cantidad de números\n",
            "2.   Números impares\n",
            "3.   Leer numeros dentro de un rango\n",
            "4.   Area de un triángulo\n",
            "5.   Evaluación de alumnos\n",
            "0.   Salir\n",
            "Elige una opción: 0\n",
            "Seleccionaste salir\n"
          ]
        }
      ]
    }
  ]
}