{
  "nbformat": 4,
  "nbformat_minor": 0,
  "metadata": {
    "colab": {
      "provenance": [],
      "authorship_tag": "ABX9TyPiHN/5KLZuNDwaxmFS0n/n",
      "include_colab_link": true
    },
    "kernelspec": {
      "name": "python3",
      "display_name": "Python 3"
    },
    "language_info": {
      "name": "python"
    }
  },
  "cells": [
    {
      "cell_type": "markdown",
      "metadata": {
        "id": "view-in-github",
        "colab_type": "text"
      },
      "source": [
        "<a href=\"https://colab.research.google.com/github/ErickRamos37/PYTHON-373441-/blob/main/ERA_PY_ACT8.ipynb\" target=\"_parent\"><img src=\"https://colab.research.google.com/assets/colab-badge.svg\" alt=\"Open In Colab\"/></a>"
      ]
    },
    {
      "cell_type": "markdown",
      "source": [
        "#Actividad 8\n",
        "##ERA_PY_ACT8\n",
        "Fecha: 8/04/2024"
      ],
      "metadata": {
        "id": "RoeifWqGqwcF"
      }
    },
    {
      "cell_type": "markdown",
      "source": [
        "1.  Programa en python que genere un número entre el 1 y 10 (no visible)  preguntarle al usuario que número cree que generó la computadora, el usuario tendrá 3 oportunidades de adivinar.\n",
        "\n",
        "Decir si adivino o si falló en sus 3 intentos.\n",
        "\n",
        "\n",
        "\n",
        "NOTA: 100% VALIDADO (usar función para validar números)\n",
        "\n",
        "\n",
        "\n",
        "NOTA2: El usuario podrá jugar cuantas veces lo desee, al final del juego desplegar cantidad de ganados y perdidos\n",
        "\n"
      ],
      "metadata": {
        "id": "IO5QCeDTrK2Q"
      }
    },
    {
      "cell_type": "code",
      "source": [
        "while True:\n",
        "    try:\n",
        "        juego()\n",
        "        print(\"¿Deseas internar de nuevo?\")\n",
        "        c = int(input(\"0 para no otro número para si: \"))\n",
        "    except ValueError:\n",
        "        print(\"Error: Solo ingresa números enteros positivos\")\n",
        "        continue\n",
        "    else:\n",
        "        if c == 0:\n",
        "            break"
      ],
      "metadata": {
        "colab": {
          "base_uri": "https://localhost:8080/",
          "height": 0
        },
        "id": "PhTv8YgOa8R9",
        "outputId": "0000ae8e-687e-4c3f-fb5c-29452ce184e9"
      },
      "execution_count": 9,
      "outputs": [
        {
          "name": "stdout",
          "output_type": "stream",
          "text": [
            "Intenta adivinar el número entre el 1 y el 10\n",
            "Intento 1: 1\n",
            "Intento 2: 1\n",
            "Intento 3: 1\n",
            "Te has quedado sin intentos\n",
            "El número es: 2\n",
            "¿Deseas internar de nuevo?\n",
            "0 para no otro número para si: 1\n",
            "Intenta adivinar el número entre el 1 y el 10\n",
            "Intento 1: 1\n",
            "Intento 2: 2\n",
            "Intento 3: 3\n",
            "Te has quedado sin intentos\n",
            "El número es: 9\n",
            "¿Deseas internar de nuevo?\n",
            "0 para no otro número para si: 2\n",
            "Intenta adivinar el número entre el 1 y el 10\n",
            "Intento 1: 1\n",
            "Intento 2: 2\n",
            "Intento 3: 3\n",
            "Felicidades lograste adivinar\n",
            "¿Deseas internar de nuevo?\n",
            "0 para no otro número para si: 0\n"
          ]
        }
      ]
    },
    {
      "cell_type": "code",
      "execution_count": 7,
      "metadata": {
        "id": "AhoKZk4_pljq"
      },
      "outputs": [],
      "source": [
        "def juego():\n",
        "    import random\n",
        "    num = random.randint(1, 10)\n",
        "    i = 0\n",
        "    print(\"Intenta adivinar el número entre el 1 y el 10\")\n",
        "    while i < 3:\n",
        "        try:\n",
        "            adi = int(input(f\"Intento {i + 1}: \"))\n",
        "            if num == adi:\n",
        "                print(\"Felicidades lograste adivinar\")\n",
        "                break\n",
        "            elif adi < 1:\n",
        "                raise ValueError\n",
        "            elif adi > 10:\n",
        "                raise ValueError\n",
        "        except:\n",
        "            print(\"Solo números enterios entre el 1 y el 10\")\n",
        "            continue\n",
        "        else:\n",
        "            i += 1\n",
        "    if i >= 3:\n",
        "        print(\"Te has quedado sin intentos\")\n",
        "        print(f\"El número es: {num}\")"
      ]
    },
    {
      "cell_type": "markdown",
      "source": [
        "2.  El juego Busca Número muestra una lista de 10 numeros, sin mostrar su contenido,\n",
        "\n",
        "Al usuario se le muestra un número que se generó aleatoriamente y el usuario tendrá 3 intentos de adivinar en qué índice del arreglo se encuentra.\n",
        "\n",
        "El usuario recibirá un mensaje que diga GANASTE, PERDISTE, TIENES UN NUEVO INTENTO\n",
        "\n",
        "El usuario podrá jugar cuantas veces lo desee.\n",
        "\n",
        "\n",
        "\n",
        "NOTA: La lista se deberá llenar con números aleatorios del 1 al 10 no repetidos.\n",
        "\n",
        "(Hacer una función que regrese la lista con los 10 números sin repetir)\n"
      ],
      "metadata": {
        "id": "b2WcSJbv1Pjb"
      }
    },
    {
      "cell_type": "markdown",
      "source": [
        "VERSIÓN A) Usar ciclos para validar los repetidos, y sólo random para generar los números dentro del rango\n",
        "\n"
      ],
      "metadata": {
        "id": "piYH7wLvibVq"
      }
    },
    {
      "cell_type": "code",
      "source": [
        "while True:\n",
        "    try:\n",
        "        AJuegoBusNum()\n",
        "        print(\"¿Deseas internar de nuevo?\")\n",
        "        c = int(input(\"0 para no otro número para si: \"))\n",
        "    except ValueError:\n",
        "        print(\"Error: Solo ingresa números enteros positivos\")\n",
        "        continue\n",
        "    else:\n",
        "        if c == 0:\n",
        "            break"
      ],
      "metadata": {
        "colab": {
          "base_uri": "https://localhost:8080/",
          "height": 0
        },
        "id": "cOqYDG23fGyz",
        "outputId": "5e7fac5a-4d6b-4b8c-cb1a-0b80d7516461"
      },
      "execution_count": 77,
      "outputs": [
        {
          "name": "stdout",
          "output_type": "stream",
          "text": [
            "Bienvenido al juego Buscar Número\n",
            "[1][2][3][4][5][6][7][8][9][10]\n",
            "El número 3 se encuentra en el índice: \n",
            "Intento 1: 1\n",
            "TIENES UN NUEVO INTENTO\n",
            "Intento 2: 2\n",
            "TIENES UN NUEVO INTENTO\n",
            "Intento 3: 3\n",
            "TIENES UN NUEVO INTENTO\n",
            "PERDISTE \n",
            "Te has quedado sin intentos\n",
            "Los numeros ocultos son: \n",
            "[1][2][3][4][5][6][7][8][9][10] ---> índices\n",
            "[9, 10, 2, 3, 7, 6, 5, 1, 4, 8] ---> numeros ocultos\n",
            "El número 3 se en ancuentra en 4\n",
            "¿Deseas internar de nuevo?\n",
            "0 para no otro número para si: 1\n",
            "Bienvenido al juego Buscar Número\n",
            "[1][2][3][4][5][6][7][8][9][10]\n",
            "El número 4 se encuentra en el índice: \n",
            "Intento 1: 2\n",
            "TIENES UN NUEVO INTENTO\n",
            "Intento 2: 1\n",
            "TIENES UN NUEVO INTENTO\n",
            "Intento 3: 3\n",
            "GANASTE \n",
            "Felicidades lograste adivinar\n",
            "¿Deseas internar de nuevo?\n",
            "0 para no otro número para si: 0\n"
          ]
        }
      ]
    },
    {
      "cell_type": "code",
      "source": [
        "def AJuegoBusNum():\n",
        "    import random\n",
        "    lista = []\n",
        "    i = 0\n",
        "    print(\"Bienvenido al juego Buscar Número\")\n",
        "    lista = list_random()\n",
        "    print(\"[1][2][3][4][5][6][7][8][9][10]\")\n",
        "    num = random.randint(1, 10)\n",
        "    ind = Buscar_Num(lista, num)\n",
        "    print(f\"El número {num} se encuentra en el índice: \")\n",
        "    while i < 3:\n",
        "        try:\n",
        "            adi = int(input(f\"Intento {i + 1}: \"))\n",
        "            if ind == adi - 1:\n",
        "                print(\"GANASTE \\nFelicidades lograste adivinar\")\n",
        "                break\n",
        "            elif adi < 1:\n",
        "                raise ValueError\n",
        "            elif adi > 10:\n",
        "                raise ValueError\n",
        "        except:\n",
        "            print(\"Solo números enteros entre el 1 y el 10\")\n",
        "            continue\n",
        "        else:\n",
        "            i += 1\n",
        "            print(\"TIENES UN NUEVO INTENTO\")\n",
        "    if i >= 3:\n",
        "        print(\"PERDISTE \\nTe has quedado sin intentos\")\n",
        "        print(\"Los numeros ocultos son: \")\n",
        "        print(\"[1][2][3][4][5][6][7][8][9][10] ---> índices\")\n",
        "        print(f\"{lista} ---> numeros ocultos\")\n",
        "        print(f\"El número {num} se en ancuentra en {ind + 1}\")"
      ],
      "metadata": {
        "id": "NkURfbRprO13"
      },
      "execution_count": 76,
      "outputs": []
    },
    {
      "cell_type": "code",
      "source": [
        "def NumRamdom():\n",
        "    import random\n",
        "    return random.randint(1, 10)"
      ],
      "metadata": {
        "id": "ldDvSCJ-y-FV"
      },
      "execution_count": 11,
      "outputs": []
    },
    {
      "cell_type": "code",
      "source": [
        "def Buscar_Num(lista, num):\n",
        "    i = 0\n",
        "    tamaño = len(lista)\n",
        "    for i in range(len(lista) - 1):\n",
        "        if num == lista[i]:\n",
        "            return i\n",
        "            break"
      ],
      "metadata": {
        "id": "3Sbwj7ZsvgMV"
      },
      "execution_count": 12,
      "outputs": []
    },
    {
      "cell_type": "code",
      "source": [
        "def list_random():\n",
        "    import random\n",
        "    lista = []\n",
        "    for i in range(10):\n",
        "        numero_aleatorio = random.randint(1, 10)\n",
        "        while numero_aleatorio in lista:\n",
        "            numero_aleatorio = random.randint(1, 10)\n",
        "        lista.append(numero_aleatorio)\n",
        "    return lista"
      ],
      "metadata": {
        "id": "1kXk1lbJrMPk"
      },
      "execution_count": 13,
      "outputs": []
    },
    {
      "cell_type": "code",
      "source": [
        "def imprimir_list(lista):\n",
        "    carac = len(lista)\n",
        "    i = 0\n",
        "    for i in carac:\n",
        "        print (f\" {[i + 1]} --> {lista[i]}\")"
      ],
      "metadata": {
        "id": "htU5P6quvui8"
      },
      "execution_count": 14,
      "outputs": []
    },
    {
      "cell_type": "markdown",
      "source": [
        "VERSIÓN B) Usa funciones de la librería Random para llenar la lista con los número sin repetir\n",
        "\n"
      ],
      "metadata": {
        "id": "sZISVTSnilBy"
      }
    },
    {
      "cell_type": "code",
      "source": [
        "while True:\n",
        "    try:\n",
        "        BuegoBusNum()\n",
        "        print(\"¿Deseas internar de nuevo?\")\n",
        "        c = int(input(\"0 para no otro número para si: \"))\n",
        "    except ValueError:\n",
        "        print(\"Error: Solo ingresa números enteros positivos\")\n",
        "        continue\n",
        "    else:\n",
        "        if c == 0:\n",
        "            break"
      ],
      "metadata": {
        "colab": {
          "base_uri": "https://localhost:8080/",
          "height": 0
        },
        "id": "gKDiVGqx-1VQ",
        "outputId": "73cce55e-7aa8-4263-e47d-af08895f9b48"
      },
      "execution_count": 74,
      "outputs": [
        {
          "name": "stdout",
          "output_type": "stream",
          "text": [
            "Bienvenido al juego Buscar Número\n",
            "[1][2][3][4][5][6][7][8][9][10]\n",
            "El número 3 se encuentra en el índice: \n",
            "Intento 1: 1\n",
            "TIENES UN NUEVO INTENTO\n",
            "Intento 2: 2\n",
            "TIENES UN NUEVO INTENTO\n",
            "Intento 3: 3\n",
            "TIENES UN NUEVO INTENTO\n",
            "PERDISTE \n",
            "Te has quedado sin intentos\n",
            "Los numeros ocultos son: \n",
            "[1][2][3][4][5][6][7][8][9][10] ---> índices\n",
            "[5, 7, 9, 2, 4, 1, 8, 3, 10, 6] ---> numeros ocultos\n",
            "El número 3 se en ancuentra en 8\n",
            "¿Deseas internar de nuevo?\n",
            "0 para no otro número para si: 1\n",
            "Bienvenido al juego Buscar Número\n",
            "[1][2][3][4][5][6][7][8][9][10]\n",
            "El número 10 se encuentra en el índice: \n",
            "Intento 1: 1\n",
            "TIENES UN NUEVO INTENTO\n",
            "Intento 2: 2\n",
            "TIENES UN NUEVO INTENTO\n",
            "Intento 3: 3\n",
            "TIENES UN NUEVO INTENTO\n",
            "PERDISTE \n",
            "Te has quedado sin intentos\n",
            "Los numeros ocultos son: \n",
            "[1][2][3][4][5][6][7][8][9][10] ---> índices\n",
            "[5, 7, 9, 2, 4, 1, 8, 3, 10, 6] ---> numeros ocultos\n",
            "El número 10 se en ancuentra en 9\n",
            "¿Deseas internar de nuevo?\n",
            "0 para no otro número para si: 1\n",
            "Bienvenido al juego Buscar Número\n",
            "[1][2][3][4][5][6][7][8][9][10]\n",
            "El número 10 se encuentra en el índice: \n",
            "Intento 1: 1\n",
            "TIENES UN NUEVO INTENTO\n",
            "Intento 2: 2\n",
            "TIENES UN NUEVO INTENTO\n",
            "Intento 3: 3\n",
            "TIENES UN NUEVO INTENTO\n",
            "PERDISTE \n",
            "Te has quedado sin intentos\n",
            "Los numeros ocultos son: \n",
            "[1][2][3][4][5][6][7][8][9][10] ---> índices\n",
            "[5, 7, 9, 2, 4, 1, 8, 3, 10, 6] ---> numeros ocultos\n",
            "El número 10 se en ancuentra en 9\n",
            "¿Deseas internar de nuevo?\n",
            "0 para no otro número para si: 0\n"
          ]
        }
      ]
    },
    {
      "cell_type": "code",
      "source": [
        "def BuegoBusNum():\n",
        "    import random\n",
        "    lista = []\n",
        "    i = 0\n",
        "    print(\"Bienvenido al juego Buscar Número\")\n",
        "    lista = list_random_B(5)\n",
        "    print(\"[1][2][3][4][5][6][7][8][9][10]\")\n",
        "    num = random.randint(1, 10)\n",
        "    ind = Buscar_Num(lista, num)\n",
        "    print(f\"El número {num} se encuentra en el índice: \")\n",
        "    while i < 3:\n",
        "        try:\n",
        "            adi = int(input(f\"Intento {i + 1}: \"))\n",
        "            if ind == adi - 1:\n",
        "                print(\"GANASTE \\nFelicidades lograste adivinar\")\n",
        "                break\n",
        "            elif adi < 1:\n",
        "                raise ValueError\n",
        "            elif adi > 10:\n",
        "                raise ValueError\n",
        "        except:\n",
        "            print(\"Solo números enteros entre el 1 y el 10\")\n",
        "            continue\n",
        "        else:\n",
        "            i += 1\n",
        "            print(\"TIENES UN NUEVO INTENTO\")\n",
        "    if i >= 3:\n",
        "        print(\"PERDISTE \\nTe has quedado sin intentos\")\n",
        "        print(\"Los numeros ocultos son: \")\n",
        "        print(\"[1][2][3][4][5][6][7][8][9][10] ---> índices\")\n",
        "        print(f\"{lista} ---> numeros ocultos\")\n",
        "        print(f\"El número {num} se en ancuentra en {ind + 1}\")"
      ],
      "metadata": {
        "id": "-3lRC2e3ioAb"
      },
      "execution_count": 73,
      "outputs": []
    },
    {
      "cell_type": "code",
      "source": [
        "def list_random_B(n):\n",
        "    numeros_posibles = set(range(1, 11))\n",
        "    while len(lista) < n:\n",
        "        numero_aleatorio = random.sample(numeros_posibles, 1)[0]\n",
        "        lista.append(numero_aleatorio)\n",
        "        numeros_posibles.remove(numero_aleatorio)\n",
        "\n",
        "    return lista"
      ],
      "metadata": {
        "id": "iapTPZVKiv0k"
      },
      "execution_count": 70,
      "outputs": []
    },
    {
      "cell_type": "markdown",
      "source": [
        "VERSIÓN C) Usa funciones de la librería Random para llenar la lista con los número sin repetir\n",
        "\n"
      ],
      "metadata": {
        "id": "R2xQcooUJHGy"
      }
    },
    {
      "cell_type": "code",
      "source": [
        "while True:\n",
        "    try:\n",
        "        CJuegoBusNum()\n",
        "        print(\"¿Deseas internar de nuevo?\")\n",
        "        c = int(input(\"0 para no otro número para si: \"))\n",
        "    except ValueError:\n",
        "        print(\"Error: Solo ingresa números enteros positivos\")\n",
        "        continue\n",
        "    else:\n",
        "        if c == 0:\n",
        "            break"
      ],
      "metadata": {
        "colab": {
          "base_uri": "https://localhost:8080/",
          "height": 0
        },
        "id": "P4R9U_MwJSrz",
        "outputId": "1f14b543-094e-40e8-b7bb-a29d1cb2f44a"
      },
      "execution_count": 69,
      "outputs": [
        {
          "name": "stdout",
          "output_type": "stream",
          "text": [
            "Bienvenido al juego Buscar Número\n",
            "[1][2][3][4][5][6][7][8][9][10]\n",
            "El número 6 se encuentra en el índice: \n",
            "Intento 1: 1\n",
            "TIENES UN NUEVO INTENTO\n",
            "Intento 2: 2\n",
            "TIENES UN NUEVO INTENTO\n",
            "Intento 3: 5\n",
            "GANASTE \n",
            "Felicidades lograste adivinar\n",
            "¿Deseas internar de nuevo?\n",
            "0 para no otro número para si: 0\n"
          ]
        }
      ]
    },
    {
      "cell_type": "code",
      "source": [
        "def CJuegoBusNum():\n",
        "    lista = []\n",
        "    i = 0\n",
        "    print(\"Bienvenido al juego Buscar Número\")\n",
        "    lista = list_random_C()\n",
        "    print(\"[1][2][3][4][5][6][7][8][9][10]\")\n",
        "    num = NumRamdom()\n",
        "    ind = Buscar_Num(lista, num)\n",
        "    print(f\"El número {num} se encuentra en el índice: \")\n",
        "    while i < 3:\n",
        "        try:\n",
        "            adi = int(input(f\"Intento {i + 1}: \"))\n",
        "            if ind == adi - 1:\n",
        "                print(\"GANASTE \\nFelicidades lograste adivinar\")\n",
        "                break\n",
        "            elif adi < 1:\n",
        "                raise ValueError\n",
        "            elif adi > 10:\n",
        "                raise ValueError\n",
        "        except:\n",
        "            print(\"Solo números enteros entre el 1 y el 10\")\n",
        "            continue\n",
        "        else:\n",
        "            i += 1\n",
        "            print(\"TIENES UN NUEVO INTENTO\")\n",
        "    if i >= 3:\n",
        "        print(\"PERDISTE \\nTe has quedado sin intentos\")\n",
        "        print(\"Los numeros ocultos son: \")\n",
        "        print(\"[1][2][3][4][5][6][7][8][9][10] ---> índices\")\n",
        "        print(f\"{lista} ---> numeros ocultos\")\n",
        "        print(f\"El número {num} se en ancuentra en {ind + 1}\")"
      ],
      "metadata": {
        "id": "TtBafG6GMjK8"
      },
      "execution_count": 68,
      "outputs": []
    },
    {
      "cell_type": "code",
      "source": [
        "def list_random_C():\n",
        "    import random\n",
        "    i = 0\n",
        "    lista = []\n",
        "    rango = [1, 2, 3, 4, 5, 6, 7, 8, 9, 10]\n",
        "    while True:\n",
        "        try:\n",
        "            v = random.randrange(len(rango))\n",
        "            if rango[v] != 0:\n",
        "                lista.append(rango[v])\n",
        "                rango[v] = 0\n",
        "            else:\n",
        "                raise ValueError\n",
        "            if i >= 9:\n",
        "                return lista\n",
        "                break\n",
        "        except ValueError:\n",
        "            continue\n",
        "        else:\n",
        "            i += 1"
      ],
      "metadata": {
        "id": "N8Q56pYjKG8h"
      },
      "execution_count": 67,
      "outputs": []
    }
  ]
}