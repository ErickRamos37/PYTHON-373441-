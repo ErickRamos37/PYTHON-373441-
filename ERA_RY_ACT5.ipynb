{
  "nbformat": 4,
  "nbformat_minor": 0,
  "metadata": {
    "colab": {
      "provenance": [],
      "authorship_tag": "ABX9TyOeu/aD4lgiRyVVI/cKXw2V",
      "include_colab_link": true
    },
    "kernelspec": {
      "name": "python3",
      "display_name": "Python 3"
    },
    "language_info": {
      "name": "python"
    }
  },
  "cells": [
    {
      "cell_type": "markdown",
      "metadata": {
        "id": "view-in-github",
        "colab_type": "text"
      },
      "source": [
        "<a href=\"https://colab.research.google.com/github/ErickRamos37/PYTHON-373441-/blob/main/ERA_RY_ACT5.ipynb\" target=\"_parent\"><img src=\"https://colab.research.google.com/assets/colab-badge.svg\" alt=\"Open In Colab\"/></a>"
      ]
    },
    {
      "cell_type": "markdown",
      "source": [
        "#ACTIVIDAD 5\n",
        "##Erick Ramos Alvarado  373441\n",
        "###ERA_PY_ACT5"
      ],
      "metadata": {
        "id": "f6reVxx5jufU"
      }
    },
    {
      "cell_type": "markdown",
      "source": [
        "###ERA_PY_ACT5_01\n",
        "1.  Programa en Python que genere 40 números aleatorios entre el 0 y 200, desplegar los números y la leyenda de cada número si es par o impar , la cantidad de los números pares e impares así como la suma de los números pares o impares.\n",
        "\n",
        "Fecha: 4/03/2024"
      ],
      "metadata": {
        "id": "2D71q0VrrcYP"
      }
    },
    {
      "cell_type": "code",
      "source": [
        "import random\n",
        "i = 0\n",
        "par = 0\n",
        "spar = 0\n",
        "simpar = 0\n",
        "while i < 40:\n",
        "    x = random.randrange(0, 200)\n",
        "    if x % 2 == 0:\n",
        "        print(f\"{x} --> Es par\")\n",
        "        par += 1\n",
        "        spar += x\n",
        "    else:\n",
        "        print(f\"{x} --> Es impar\")\n",
        "        simpar += x\n",
        "    print(x)\n",
        "    i += 1\n",
        "print(f\"La cantidad de pares es: {par}\")\n",
        "print(f\"La cantidad de pares es: {i - par}\")\n",
        "print(f\"La suma de los pares es: {spar}\")\n",
        "print(f\"La sima de los impares es: {simpar}\")"
      ],
      "metadata": {
        "id": "fqF39zD-riRn",
        "colab": {
          "base_uri": "https://localhost:8080/",
          "height": 0
        },
        "outputId": "93e06420-5185-4758-a8a0-99be3aed2df8"
      },
      "execution_count": 3,
      "outputs": [
        {
          "output_type": "stream",
          "name": "stdout",
          "text": [
            "79 --> Es impar\n",
            "79\n",
            "145 --> Es impar\n",
            "145\n",
            "165 --> Es impar\n",
            "165\n",
            "15 --> Es impar\n",
            "15\n",
            "127 --> Es impar\n",
            "127\n",
            "8 --> Es par\n",
            "8\n",
            "112 --> Es par\n",
            "112\n",
            "193 --> Es impar\n",
            "193\n",
            "94 --> Es par\n",
            "94\n",
            "35 --> Es impar\n",
            "35\n",
            "79 --> Es impar\n",
            "79\n",
            "118 --> Es par\n",
            "118\n",
            "7 --> Es impar\n",
            "7\n",
            "179 --> Es impar\n",
            "179\n",
            "177 --> Es impar\n",
            "177\n",
            "190 --> Es par\n",
            "190\n",
            "33 --> Es impar\n",
            "33\n",
            "34 --> Es par\n",
            "34\n",
            "130 --> Es par\n",
            "130\n",
            "31 --> Es impar\n",
            "31\n",
            "164 --> Es par\n",
            "164\n",
            "3 --> Es impar\n",
            "3\n",
            "80 --> Es par\n",
            "80\n",
            "57 --> Es impar\n",
            "57\n",
            "58 --> Es par\n",
            "58\n",
            "95 --> Es impar\n",
            "95\n",
            "36 --> Es par\n",
            "36\n",
            "114 --> Es par\n",
            "114\n",
            "68 --> Es par\n",
            "68\n",
            "47 --> Es impar\n",
            "47\n",
            "170 --> Es par\n",
            "170\n",
            "20 --> Es par\n",
            "20\n",
            "145 --> Es impar\n",
            "145\n",
            "33 --> Es impar\n",
            "33\n",
            "186 --> Es par\n",
            "186\n",
            "52 --> Es par\n",
            "52\n",
            "34 --> Es par\n",
            "34\n",
            "61 --> Es impar\n",
            "61\n",
            "189 --> Es impar\n",
            "189\n",
            "198 --> Es par\n",
            "198\n",
            "La cantidad de pares es: 19\n",
            "La cantidad de pares es: 21\n",
            "La suma de los pares es: 1866\n",
            "La sima de los impares es: 1895\n"
          ]
        }
      ]
    },
    {
      "cell_type": "markdown",
      "source": [
        "###ERA_PY_ACT5_02\n",
        "2.  Programa en Python que despliegue la tabla de multiplicar de un número dado (número entre el 1 y 20).\n",
        "\n",
        "Fecha: 4/03/2024"
      ],
      "metadata": {
        "id": "bsLQbYFPniKg"
      }
    },
    {
      "cell_type": "code",
      "source": [
        "while True:\n",
        "    try:\n",
        "        n = int(input(\"Ingresa el numero de la tabla de multiplicar que deseas conocer (entre 1 y 20): \"))\n",
        "        if n in range(1, 21):\n",
        "            for i in range(1, 11):\n",
        "                x = n * i\n",
        "                print(f\"{n} * {i} = {x}\")\n",
        "            break\n",
        "        else:\n",
        "            raise ValueError(\"El número debe estar entre 1 y 20.\")\n",
        "    except ValueError as e:\n",
        "        print(\"El número debe estar entre 1 y 20 y ser entero positivo.\")"
      ],
      "metadata": {
        "colab": {
          "base_uri": "https://localhost:8080/",
          "height": 0
        },
        "id": "d6hJFRsEnyjN",
        "outputId": "3177a9af-027a-4908-987b-d532fe7b1d19"
      },
      "execution_count": 62,
      "outputs": [
        {
          "output_type": "stream",
          "name": "stdout",
          "text": [
            "Ingresa el numero de la tabla de multiplicar que deseas conocer (entre 1 y 20): 200\n",
            "El número debe estar entre 1 y 20.\n",
            "Ingresa el numero de la tabla de multiplicar que deseas conocer (entre 1 y 20): 5\n",
            "5 * 1 = 5\n",
            "5 * 2 = 10\n",
            "5 * 3 = 15\n",
            "5 * 4 = 20\n",
            "5 * 5 = 25\n",
            "5 * 6 = 30\n",
            "5 * 7 = 35\n",
            "5 * 8 = 40\n",
            "5 * 9 = 45\n",
            "5 * 10 = 50\n"
          ]
        }
      ]
    },
    {
      "cell_type": "markdown",
      "source": [
        "###ERA_PY_ACT5_03\n",
        "3.  Programa en Python que lea una calificación, las calificación deberá estar en el rango de 0 a 100, si hay un error de captura, mostrar mensaje de error. con la calificación correcta mostrar msg de aprobado reprobado.\n",
        "\n",
        "Fecha: 4/03/2024"
      ],
      "metadata": {
        "id": "E-iYwVvtye1t"
      }
    },
    {
      "cell_type": "code",
      "source": [
        "while True:\n",
        "    try:\n",
        "        cal = int(input(\"Ingresa la calificación: \"))\n",
        "        if cal in range(0, 101):\n",
        "            if cal < 60:\n",
        "                print(\"Has reprobado\")\n",
        "            else:\n",
        "                print(\"Has aprobado\")\n",
        "            break\n",
        "        else:\n",
        "            raise ValueError(\"El número debe estar entre 1 y 100.\")\n",
        "    except ValueError as e:\n",
        "        print(\"El número debe estar entre 1 y 20 y ser entero positivo.\")"
      ],
      "metadata": {
        "colab": {
          "base_uri": "https://localhost:8080/",
          "height": 0
        },
        "id": "H8Yv9BeFyvoV",
        "outputId": "4e1d3628-2909-4b72-f133-47aaecad7134"
      },
      "execution_count": 63,
      "outputs": [
        {
          "output_type": "stream",
          "name": "stdout",
          "text": [
            "Ingresa la calificación: 500\n",
            "El número debe estar entre 1 y 20.\n",
            "Ingresa la calificación: 60\n",
            "Has aprobado\n"
          ]
        }
      ]
    },
    {
      "cell_type": "markdown",
      "source": [
        "###ERA_PY_ACT5_04\n",
        "4.  Programa en Python que lea n cantidad de números enteros dentro de un rango dado (> 0 ) , el programa deberá terminar cuando el usuario introduzca el número cero. desplegar la suma de números y la media.\n",
        "\n",
        "Fecha: 8/03/2024"
      ],
      "metadata": {
        "id": "yzCqKrzkDkK0"
      }
    },
    {
      "cell_type": "code",
      "source": [
        "while True:\n",
        "    try:\n",
        "        r = int(input(\"Ingresa el rango de la suma: \"))\n",
        "        if r > 0:\n",
        "            s = 0\n",
        "            i = 0\n",
        "            suma = 0\n",
        "            while i < r:\n",
        "                try:\n",
        "                    n = int(input(f\"Ingresa el número {i + 1}: \"))\n",
        "                except:\n",
        "                    continue\n",
        "                else:\n",
        "                    suma = suma + n\n",
        "                    i += 1\n",
        "            else:\n",
        "                print(f\"La suma es: {suma}\")\n",
        "                break\n",
        "        else:\n",
        "            raise ValueError(\"El número debe ser mayor a 0\")\n",
        "    except ValueError as e:\n",
        "        print(\"El número debe estar entre 1 y 20 y ser entero positivo.\")"
      ],
      "metadata": {
        "id": "MMF8gy-_q8it",
        "colab": {
          "base_uri": "https://localhost:8080/",
          "height": 0
        },
        "outputId": "0c7fa526-3efb-48c4-e34a-4624b3d3fbe1"
      },
      "execution_count": 2,
      "outputs": [
        {
          "output_type": "stream",
          "name": "stdout",
          "text": [
            "Ingresa el rango de la suma: 3\n",
            "Ingresa el número 1: 20\n",
            "Ingresa el número 2: ERA\n",
            "Ingresa el número 2: 30\n",
            "Ingresa el número 3: Diez \n",
            "Ingresa el número 3: 50\n",
            "La suma es: 100\n"
          ]
        }
      ]
    },
    {
      "cell_type": "markdown",
      "source": [
        "###ERA_PY_ACT5_05\n",
        "5.  Programa en Python que sirva para leer el promedio de una materia. donde el usuario tendrá un máximo de 3 oportunidades de cursar la materia, si el promedio es aprobado, felicitarlo y continuar el siguiente semestre, si promedio es reprobado deberá salir mensaje de repetir materia o es baja académica si ha reprobado 3 veces."
      ],
      "metadata": {
        "id": "9QehxpUM9eXY"
      }
    },
    {
      "cell_type": "code",
      "source": [
        "try:\n",
        "    i = 0\n",
        "    j = 1\n",
        "    cont = 0\n",
        "    while cont != 1:\n",
        "        try:\n",
        "            prom = int(input(f\"Ingresa el promedio del semestre {i + 1}: \"))\n",
        "            while prom < 60:\n",
        "                try:\n",
        "                    if j < 3:\n",
        "                        print(f\"Has reprobado en tu intento {j}: \")\n",
        "                        prom = int(input(f\"Ingresa la calificación de tu intento {j + 1}: \"))\n",
        "                    else:\n",
        "                        print(\"Superaste los 3 intentos estas de baja temporal\")\n",
        "                        break\n",
        "                except:\n",
        "                    continue\n",
        "                else:\n",
        "                    j += 1\n",
        "                if prom >= 60:\n",
        "                    print(f\"Felicidades aprobaste\")\n",
        "        except:\n",
        "            continue\n",
        "        else:\n",
        "            cont = int(input(f\"Ingresa 1 si deseas salir {i + 1}: \"))\n",
        "            i += 1\n",
        "\n",
        "except ValueError as e:\n",
        "    print(\"El número debe estar entre 1 y 20 y ser entero positivo.\")"
      ],
      "metadata": {
        "colab": {
          "base_uri": "https://localhost:8080/",
          "height": 0
        },
        "id": "LyFTvaaLGyDf",
        "outputId": "e6af9e27-c4dd-4025-c75e-6f38ec126fcd"
      },
      "execution_count": 1,
      "outputs": [
        {
          "name": "stdout",
          "output_type": "stream",
          "text": [
            "Ingresa el promedio del semestre 1: 50\n",
            "Has reprobado en tu intento 1: \n",
            "Ingresa la calificación de tu intento 2: 50\n",
            "Has reprobado en tu intento 2: \n",
            "Ingresa la calificación de tu intento 3: 50\n",
            "Superaste los 3 intentos estas de baja temporal\n",
            "Ingresa 1 si deseas salir 1: 1\n"
          ]
        }
      ]
    },
    {
      "cell_type": "markdown",
      "source": [
        "##Parte 2\n",
        "###ERA_PY_ACT5_01\n",
        "1.  función que lea n cantidad de números hasta que el usuario lo desee, desplegar la suma de los números, media y valor de los números mayores y menores."
      ],
      "metadata": {
        "id": "X4r0gDKlQ-qD"
      }
    },
    {
      "cell_type": "code",
      "source": [
        "while True:\n",
        "  try:\n",
        "    n = int(input(\"Ingrese la cantidad de números a leer: \"))\n",
        "    if n > 0:\n",
        "      break\n",
        "    else:\n",
        "      print(\"Error: La cantidad de números debe ser mayor a 0.\")\n",
        "  except ValueError:\n",
        "    print(\"Error: La cantidad de números debe ser un número entero.\")\n",
        "\n",
        "numeros = []\n",
        "\n",
        "for i in range(n):\n",
        "  while True:\n",
        "    try:\n",
        "      numero = float(input(f\"Ingrese el número {i + 1}: \"))\n",
        "      numeros.append(numero)\n",
        "      break\n",
        "    except ValueError:\n",
        "      print(\"Error: El número debe ser un número decimal.\")\n",
        "\n",
        "suma = 0\n",
        "for numero in numeros:\n",
        "  suma += numero\n",
        "\n",
        "media = suma / n\n",
        "\n",
        "valor_mayor = numeros[0]\n",
        "for numero in numeros:\n",
        "  if numero > valor_mayor:\n",
        "    valor_mayor = numero\n",
        "\n",
        "valor_menor = numeros[0]\n",
        "for numero in numeros:\n",
        "  if numero < valor_menor:\n",
        "    valor_menor = numero\n",
        "\n",
        "print(f\"Suma: {suma}\")\n",
        "print(f\"Media: {media}\")\n",
        "print(f\"Valor mayor: {valor_mayor}\")\n",
        "print(f\"Valor menor: {valor_menor}\")"
      ],
      "metadata": {
        "colab": {
          "base_uri": "https://localhost:8080/",
          "height": 0
        },
        "id": "_fIs-jpCRO5P",
        "outputId": "34cda555-bc9c-4879-b25c-9d53523818fd"
      },
      "execution_count": 2,
      "outputs": [
        {
          "output_type": "stream",
          "name": "stdout",
          "text": [
            "Ingrese la cantidad de números a leer: 3\n",
            "Ingrese el número 1: 50\n",
            "Ingrese el número 2: 20\n",
            "Ingrese el número 3: 30\n",
            "Suma: 100.0\n",
            "Media: 33.333333333333336\n",
            "Valor mayor: 50.0\n",
            "Valor menor: 20.0\n"
          ]
        }
      ]
    }
  ]
}