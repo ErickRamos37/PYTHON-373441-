{
  "nbformat": 4,
  "nbformat_minor": 0,
  "metadata": {
    "colab": {
      "provenance": [],
      "authorship_tag": "ABX9TyO9jPqwB+mYXZGNwyYTqYrC",
      "include_colab_link": true
    },
    "kernelspec": {
      "name": "python3",
      "display_name": "Python 3"
    },
    "language_info": {
      "name": "python"
    }
  },
  "cells": [
    {
      "cell_type": "markdown",
      "metadata": {
        "id": "view-in-github",
        "colab_type": "text"
      },
      "source": [
        "<a href=\"https://colab.research.google.com/github/ErickRamos37/PYTHON-373441-/blob/main/ERA_PY_ACT3.ipynb\" target=\"_parent\"><img src=\"https://colab.research.google.com/assets/colab-badge.svg\" alt=\"Open In Colab\"/></a>"
      ]
    },
    {
      "cell_type": "markdown",
      "source": [
        "#ACTIVIDAD 3\n",
        "\n",
        "##ERA_PY_ACT3"
      ],
      "metadata": {
        "id": "Q8BY2dUuc6_3"
      }
    },
    {
      "cell_type": "markdown",
      "source": [
        "###ERA_PY_ACT3_A01\n",
        "1.  Algoritmo que lea 3 calificaciones calcule el promedio del alumno y desplegar un mensaje."
      ],
      "metadata": {
        "id": "Q1XrH5JMdWTp"
      }
    },
    {
      "cell_type": "code",
      "source": [
        "cal1 = int(input(\"Ingresa la primera calificación: \"))\n",
        "cal2 = int(input(\"Ingresa la segunda calificación: \"))\n",
        "cal3 = int(input(\"Ingresa la tercera calificación: \"))\n",
        "\n",
        "prom = (cal1 + cal2 + cal3) / 3\n",
        "\n",
        "if prom >= 80:\n",
        "    if prom < 90:\n",
        "        print(\"Bien\")\n",
        "    elif prom < 98:\n",
        "        print(\"Muy bien\")\n",
        "    elif prom <= 100:\n",
        "        print(\"Excelente\")\n",
        "    else:\n",
        "        print(\"Error en promedio\")\n",
        "\n",
        "else:\n",
        "    if prom < 30:\n",
        "        print(\"Repetir\")\n",
        "    elif prom < 60:\n",
        "        print(\"Extraordinario\")\n",
        "    elif prom < 70:\n",
        "        print(\"Suficiente\")\n",
        "    else:\n",
        "        print(\"Regular\")\n",
        "\n",
        "print(\"Tu promedio es: \", prom)"
      ],
      "metadata": {
        "id": "jhlRg2qadnSS",
        "colab": {
          "base_uri": "https://localhost:8080/",
          "height": 0
        },
        "outputId": "68c220cb-85f4-4ed6-a26a-c4b438b918ab"
      },
      "execution_count": 13,
      "outputs": [
        {
          "output_type": "stream",
          "name": "stdout",
          "text": [
            "Ingresa la primera calificación: 85\n",
            "Ingresa la segunda calificación: 95\n",
            "Ingresa la tercera calificación: 90\n",
            "Muy bien\n",
            "Tu promedio es:  90.0\n"
          ]
        }
      ]
    },
    {
      "cell_type": "markdown",
      "source": [
        "###ERA_PY_ACT3_A02\n",
        "2.  Algoritmo que sirva para calcular el salario semanal de un trabajador donde se obtiene como dato de entrada las horas semanales trabajadas, el salario por hora."
      ],
      "metadata": {
        "id": "Oe4r85nchGZB"
      }
    },
    {
      "cell_type": "code",
      "source": [
        "h_tra = int(input(\"Ingresa las horas semanales trabajadas: \"))\n",
        "sal = float(input(\"Ingresa el salario por hora: \"))\n",
        "\n",
        "if h_tra <= 40:\n",
        "    h_ext = 0\n",
        "    h_tri = 0\n",
        "elif h_tra <= 49:\n",
        "    h_ext = h_tra - 40\n",
        "    h_tri = 0\n",
        "else:\n",
        "    h_ext = 9\n",
        "    h_tri = h_tra -49\n",
        "\n",
        "sal_nor = (h_tra - h_ext - h_tri) * sal\n",
        "sal_ext = ( h_ext * 2 + h_tri * 3) * sal\n",
        "sal_to = sal_nor + sal_ext\n",
        "\n",
        "print(\"Salario por hora: \", sal)\n",
        "print(\"Horas Trabajadas: \", h_tra)\n",
        "print(\"Salario normal: \", sal_nor)\n",
        "print(\"Salario extra: \", sal_ext)\n",
        "print(\"Salario Total: \", sal_to)"
      ],
      "metadata": {
        "id": "feYZHm2BhS8j",
        "colab": {
          "base_uri": "https://localhost:8080/",
          "height": 0
        },
        "outputId": "5abbea3a-0410-4baf-a2d4-902119653b3f"
      },
      "execution_count": 15,
      "outputs": [
        {
          "output_type": "stream",
          "name": "stdout",
          "text": [
            "Ingresa las horas semanales trabajadas: 45\n",
            "Ingresa el salario por hora: 10\n",
            "Salario por hora:  10.0\n",
            "Horas Trabajadas:  45\n",
            "Salario normal:  400.0\n",
            "Salario extra:  100.0\n",
            "Salario Total:  500.0\n"
          ]
        }
      ]
    },
    {
      "cell_type": "markdown",
      "source": [
        "###ERA_PY_ACT3_A03\n",
        "3.  Algoritmo que sirva para desplegar el total de una llamada telefónica donde se pide como datos de entrada los minutos y el tipo de llamada."
      ],
      "metadata": {
        "id": "DOpO1TM3tnSd"
      }
    },
    {
      "cell_type": "code",
      "source": [
        "min = int(input(\"Ingresa los minutos en llamada: \"))\n",
        "tip = int(input(\"Ingresa el número que corresponda al tipo de llamada: \\n1. Llamada Local \\n2. Llamada Nacional \\n3. Llamada Internacional \\n\"))\n",
        "\n",
        "if tip == 1:\n",
        "    tota = min * 3\n",
        "elif tip == 2:\n",
        "    if min <= 3:\n",
        "        tota = 7\n",
        "    else:\n",
        "        tota = 21 + (min - 3) * 2\n",
        "elif tip == 3:\n",
        "    if min <= 2:\n",
        "        tota = 9\n",
        "    else:\n",
        "        tota = 9 + (min - 2) * 4\n",
        "else:\n",
        "    print(\"Opción no válida\")\n",
        "\n",
        "print(f\"SubTotal:   ${tota}\")\n",
        "print(f\"IVA (16%):  ${tota * 0.16}\")\n",
        "print(f\"Total:      ${tota + tota * 0.16}\")"
      ],
      "metadata": {
        "id": "RIXdQFDht-AO",
        "colab": {
          "base_uri": "https://localhost:8080/",
          "height": 0
        },
        "outputId": "a1abe543-59da-4fa7-fcf8-c68c190c6413"
      },
      "execution_count": 16,
      "outputs": [
        {
          "output_type": "stream",
          "name": "stdout",
          "text": [
            "Ingresa los minutos en llamada: 20\n",
            "Ingresa el número que corresponda al tipo de llamada: \n",
            "1. Llamada Local \n",
            "2. Llamada Nacional \n",
            "3. Llamada Internacional \n",
            "3\n",
            "SubTotal:   $81\n",
            "IVA (16%):  $12.96\n",
            "Total:      $93.96000000000001\n"
          ]
        }
      ]
    },
    {
      "cell_type": "markdown",
      "source": [
        "###ERA_PY_ACT3_A04\n",
        "4.  Algoritmo que sirva para calcular el total a pagar por consumo de agua, donde el dato de entrada son los M^3 de agua consumidos, Tomar en cuenta que se cobra escalonada."
      ],
      "metadata": {
        "id": "-JMnH7XxKbjE"
      }
    },
    {
      "cell_type": "code",
      "source": [
        "m3 = int(input(\"Ingresa los M3 de agua consumidos: \"))\n",
        "\n",
        "if m3 <= 4:\n",
        "    total = 50\n",
        "elif m3 <= 15:\n",
        "    total = m3 * 8\n",
        "elif m3 <= 50:\n",
        "    total = m3 * 10\n",
        "else:\n",
        "    total = m3 *11\n",
        "\n",
        "iva = total * 0.16\n",
        "\n",
        "print(\"SubTotal $\", total)\n",
        "print(\"IVA (16%) $\", iva)\n",
        "print(\"Total: $\", total + iva)"
      ],
      "metadata": {
        "id": "Dfk6z6A4Kt_N",
        "colab": {
          "base_uri": "https://localhost:8080/",
          "height": 0
        },
        "outputId": "1ca71084-0788-4244-8015-da75d9ed43b9"
      },
      "execution_count": 17,
      "outputs": [
        {
          "output_type": "stream",
          "name": "stdout",
          "text": [
            "Ingresa los M3 de agua consumidos: 10\n",
            "SubTotal $ 80\n",
            "IVA (16%) $ 12.8\n",
            "Total: $ 92.8\n"
          ]
        }
      ]
    },
    {
      "cell_type": "markdown",
      "source": [
        "###ERA_PY_ACT3_A05\n",
        "5.  Algoritmo que calcular el promedio final de la materia donde la calificación menor de los exámenes se anula y el promedio se calcula en base a 4 exámenes."
      ],
      "metadata": {
        "id": "dPigLKj4dheP"
      }
    },
    {
      "cell_type": "code",
      "source": [
        "ex1 = int(input(\"Ingresa la calificación del examen 1: \"))\n",
        "ex2 = int(input(\"Ingresa la calificación del examen 2: \"))\n",
        "ex3 = int(input(\"Ingresa la calificación del examen 3: \"))\n",
        "ex4 = int(input(\"Ingresa la calificación del examen 4: \"))\n",
        "ex5 = int(input(\"Ingresa la calificación del examen 5: \"))\n",
        "\n",
        "if ex1 < ex2:\n",
        "    aux = ex1\n",
        "    ex1 = ex2\n",
        "    ex2 = aux\n",
        "if ex2 < ex3:\n",
        "    aux = ex2\n",
        "    ex2 = ex3\n",
        "    ex3 = aux\n",
        "if ex3 < ex4:\n",
        "    aux = ex3\n",
        "    ex3 = ex4\n",
        "    ex3 = aux\n",
        "if ex4 < ex5:\n",
        "    aux = ex4\n",
        "    ex4 = ex5\n",
        "    ex5 = aux\n",
        "\n",
        "prom = (ex1 + ex2 + ex3 + ex4) / 4\n",
        "\n",
        "print(\"Tu promedio final es: \", prom)"
      ],
      "metadata": {
        "id": "h5tJ83Ncdwlx",
        "colab": {
          "base_uri": "https://localhost:8080/",
          "height": 0
        },
        "outputId": "353543f9-e774-4775-937a-0e79abd1a217"
      },
      "execution_count": 18,
      "outputs": [
        {
          "output_type": "stream",
          "name": "stdout",
          "text": [
            "Ingresa la calificación del examen 1: 95\n",
            "Ingresa la calificación del examen 2: 85\n",
            "Ingresa la calificación del examen 3: 95\n",
            "Ingresa la calificación del examen 4: 85\n",
            "Ingresa la calificación del examen 5: 10\n",
            "Tu promedio final es:  90.0\n"
          ]
        }
      ]
    },
    {
      "cell_type": "markdown",
      "source": [
        "###ERA_PY_ATC3_06\n",
        "6.  Algoritmo que sirva para el juego del CHINCHAMPU (Piedra, Papel, Tijera) para 1 jugador y la computadora, (usar condición anidada)"
      ],
      "metadata": {
        "id": "ooh_FZVLoJDj"
      }
    },
    {
      "cell_type": "code",
      "source": [
        "num = int(input(\"\\tBienbenido al juego del CHINCHAMPU (Piedra, Papel, Tijera) \\nIngresa el número que correspponda tu selección: \\n1. Piedra \\n2. Papel \\n3. Tijera \\n\"))\n",
        "\n",
        "import random\n",
        "\n",
        "num_ram = random.randint(1, 3)\n",
        "\n",
        "if num == 1:\n",
        "    print(\"Piedra\")\n",
        "else:\n",
        "    if num == 2:\n",
        "        print(\"Papel\")\n",
        "    else:\n",
        "        if num == 3:\n",
        "            print(\"Tijera\")\n",
        "        else:\n",
        "            print(\"Opción no valida intenta de nuevo \")\n",
        "\n",
        "print(\"VS\")\n",
        "\n",
        "if num_ram == 1:\n",
        "    print(\"Piedra\")\n",
        "else:\n",
        "    if num_ram == 2:\n",
        "        print(\"Papel\")\n",
        "    else:\n",
        "        print(\"Tijera\")\n",
        "\n",
        "if num == num_ram:\n",
        "    print(\"!Empate¡\")\n",
        "else:\n",
        "    if num_ram == 1:\n",
        "        if num == 2:\n",
        "            print(\"Felicidades has ganado :)\")\n",
        "        else:\n",
        "            print(\"Has perdido mejor suerte para la próxima :(\")\n",
        "    else:\n",
        "        if num_ram == 2:\n",
        "            if num == 1:\n",
        "                print(\"Has perdido mejor suerte para la próxima :(\")\n",
        "            else:\n",
        "                print(\"Felicidades has ganado :)\")\n",
        "        else:\n",
        "            if num == 1:\n",
        "                print(\"Felicidades has ganado :)\")\n",
        "            else:\n",
        "                print(\"Has perdido mejor suerte para la próxima :(\")"
      ],
      "metadata": {
        "id": "VoFVJxq18-T5",
        "colab": {
          "base_uri": "https://localhost:8080/",
          "height": 0
        },
        "outputId": "74048706-07ee-4817-de06-c6a1f7b6c898"
      },
      "execution_count": 19,
      "outputs": [
        {
          "output_type": "stream",
          "name": "stdout",
          "text": [
            "\tBienbenido al juego del CHINCHAMPU (Piedra, Papel, Tijera) \n",
            "Ingresa el número que correspponda tu selección: \n",
            "1. Piedra \n",
            "2. Papel \n",
            "3. Tijera \n",
            "1\n",
            "Piedra\n",
            "VS\n",
            "Papel\n",
            "Has perdido mejor suerte para la próxima :(\n"
          ]
        }
      ]
    },
    {
      "cell_type": "markdown",
      "source": [
        "###ERA_PY_ATC3_07\n",
        "7.  Algoritmo que sirva para el juego del CHINCHAMPU (Piedra, Papel, Tijera) para 1 jugador y la computadora, (usar condición anidada)"
      ],
      "metadata": {
        "id": "vBwzD9t--F5H"
      }
    },
    {
      "cell_type": "code",
      "source": [
        "num = int(input(\"\\tBienbenido al juego del CHINCHAMPU (Piedra, Papel, Tijera) \\nIngresa el número que correspponda tu selección: \\n1. Piedra \\n2. Papel \\n3. Tijera \\n\"))\n",
        "\n",
        "import random\n",
        "\n",
        "num_ram = random.randint(1, 3)\n",
        "\n",
        "if num == 1:\n",
        "    print(\"Piedra\")\n",
        "elif num == 2:\n",
        "    print(\"Papel\")\n",
        "elif num == 3:\n",
        "    print(\"Tijera\")\n",
        "else:\n",
        "    print(\"Opción no valida intenta de nuevo \")\n",
        "\n",
        "print(\"VS\")\n",
        "\n",
        "if num_ram == 1:\n",
        "    print(\"Piedra\")\n",
        "elif num_ram == 2:\n",
        "    print(\"Papel\")\n",
        "else:\n",
        "    print(\"Tijera\")\n",
        "\n",
        "if num == num_ram:\n",
        "    print(\"!Empate¡\")\n",
        "elif num_ram == 1:\n",
        "    if num == 2:\n",
        "        print(\"Felicidades has ganado :)\")\n",
        "    else:\n",
        "        print(\"Has perdido mejor suerte para la próxima :(\")\n",
        "elif num_ram == 2:\n",
        "    if num == 1:\n",
        "        print(\"Has perdido mejor suerte para la próxima :(\")\n",
        "    else:\n",
        "        print(\"Felicidades has ganado :)\")\n",
        "else:\n",
        "    if num == 1:\n",
        "        print(\"Felicidades has ganado :)\")\n",
        "    else:\n",
        "        print(\"Has perdido mejor suerte para la próxima :(\")"
      ],
      "metadata": {
        "id": "OLnSPE1dpmHb",
        "colab": {
          "base_uri": "https://localhost:8080/",
          "height": 0
        },
        "outputId": "9fda1c26-27a9-4508-957c-b9dab0c86ab0"
      },
      "execution_count": 20,
      "outputs": [
        {
          "output_type": "stream",
          "name": "stdout",
          "text": [
            "\tBienbenido al juego del CHINCHAMPU (Piedra, Papel, Tijera) \n",
            "Ingresa el número que correspponda tu selección: \n",
            "1. Piedra \n",
            "2. Papel \n",
            "3. Tijera \n",
            "2\n",
            "Papel\n",
            "VS\n",
            "Piedra\n",
            "Felicidades has ganado :)\n"
          ]
        }
      ]
    },
    {
      "cell_type": "markdown",
      "source": [
        "###ERA_PY_ACT3_08\n",
        "8.  Programa que calcule el precio a pagar por un cliente, tomando en cuenta los descuentos correspondientes."
      ],
      "metadata": {
        "id": "OJPXfk4PvUtd"
      }
    },
    {
      "cell_type": "code",
      "source": [
        "pro = int(input(\"Ingresa el número correspondiente al producto que compraste: \\n1. Computadora \\n2. Televisión \\n3. Consola de videojuegos\\n\"))\n",
        "\n",
        "if pro == 1:\n",
        "    print(\"¡Felicitaciones! Tu producto tiene un 5% de descuento.\")\n",
        "    pro_adi = str(input(\"Oferta: Agrega una impresora y obtén un 10% de descuento adicional en ella. \\nSi/No\\n\"))\n",
        "    pre1 = float(input(\"Ingresa el precio de la computadora: $\"))\n",
        "    pre1 = pre1 * 0.95\n",
        "    if pro_adi.lower() == \"si\":\n",
        "        pre2 = float(input(\"Ingresa el precio de la impresora: $\"))\n",
        "        pre2 = pre2 * 0.9\n",
        "        total = pre1 + pre2\n",
        "    else:\n",
        "        total = pre1\n",
        "\n",
        "elif pro == 2:\n",
        "    print(\"¡Felicitaciones! Tu producto tiene un 7% de descuento.\")\n",
        "    pro_adi = str(input(\"Oferta: Agrega una barra de sonido y obtén un 15% de descuento adicional en ella. \\nSi/No\\n\"))\n",
        "    pre1 = float(input(\"Ingresa el precio de la televisión: $\"))\n",
        "    pre1 = pre1 * 0.93\n",
        "    if pro_adi.lower() == \"si\":\n",
        "        pre2 = float(input(\"Ingresa el precio de la barra de sonido: $\"))\n",
        "        pre2 = pre2 * 0.85\n",
        "        total = pre1 + pre2\n",
        "    else:\n",
        "        total = pre1\n",
        "\n",
        "elif pro == 3:\n",
        "    print(\"¡Felicitaciones! Tu producto tiene un 10% de descuento.\")\n",
        "    pro_adi = str(input(\"Oferta: Agrega un juego y obtén un 20% de descuento adicional en él. \\nSi/No\\n\"))\n",
        "    pre1 = float(input(\"Ingresa el precio de la consola de videojuegos: $\"))\n",
        "    pre1 = pre1 * 0.9\n",
        "    if pro_adi.lower() == \"si\":\n",
        "        pre2 = float(input(\"Ingresa el precio del juego: $\"))\n",
        "        pre2 = pre2 * 0.8\n",
        "        total = pre1 + pre2\n",
        "    else:\n",
        "        total = pre1\n",
        "\n",
        "else:\n",
        "    print(\"Opción no válida\")\n",
        "\n",
        "print(\"El total a pagar es: $\", total)"
      ],
      "metadata": {
        "id": "RVOSgo-wJXu7",
        "colab": {
          "base_uri": "https://localhost:8080/",
          "height": 0
        },
        "outputId": "7037d16d-a3d8-43a1-bd03-3c4d5cece15f"
      },
      "execution_count": 22,
      "outputs": [
        {
          "output_type": "stream",
          "name": "stdout",
          "text": [
            "Ingresa el número correspondiente al producto que compraste: \n",
            "1. Computadora \n",
            "2. Televisión \n",
            "3. Consola de videojuegos\n",
            "3\n",
            "¡Felicitaciones! Tu producto tiene un 10% de descuento.\n",
            "Oferta: Agrega un juego y obtén un 20% de descuento adicional en él. \n",
            "Si/No\n",
            "SI\n",
            "Ingresa el precio de la consola de videojuegos: $10000\n",
            "Ingresa el precio del juego: $100\n",
            "El total a pagar es: $ 9080.0\n"
          ]
        }
      ]
    },
    {
      "cell_type": "markdown",
      "source": [
        "###ERA_PY_ACT3_09\n",
        "9.  Programa que calcule el precio a pagar por un cliente, tomando en cuenta los descuentos correspondientes."
      ],
      "metadata": {
        "id": "DW5WN6wlf3cj"
      }
    },
    {
      "cell_type": "code",
      "source": [
        "tem = int(input(\"ingresa el número correspondiente a la temporada actual: \\n1. Verano \\n2. Invierno \\n3. Primevera y otoño\\n\"))\n",
        "\n",
        "if tem == 1:\n",
        "    pre = float(input(\"Ingresa el precio a pagar de todos los productos: $\"))\n",
        "    total = pre * 0.8\n",
        "\n",
        "elif tem == 2:\n",
        "    pre_r = float(input(\"Ingrese el precio total de los productos con etiqueta roja: $\"))\n",
        "    pre_v = float(input(\"Ingrese el precio total de los productos con etiqueta verde: $\"))\n",
        "    pre = float(input(\"Ingrese el precio total de los productos faltantes: $\"))\n",
        "    total = pre_r * 0.7 + pre_v * 0.85 + pre\n",
        "\n",
        "elif tem == 3:\n",
        "    pre_a = float(input(\"Ingresa el precio total de los productos con etiqueta amarilla: $\"))\n",
        "    pre = float(input(\"Ingrese el precio total de los productos faltantes: $\"))\n",
        "    total = pre_a * 0.9 + pre\n",
        "\n",
        "print(\"El total a pagar es: $\", total)"
      ],
      "metadata": {
        "id": "HHBOXWk-gVam",
        "colab": {
          "base_uri": "https://localhost:8080/",
          "height": 0
        },
        "outputId": "9d93295d-4a3c-422d-d6b8-418a6706a9a4"
      },
      "execution_count": 23,
      "outputs": [
        {
          "output_type": "stream",
          "name": "stdout",
          "text": [
            "ingresa el número correspondiente a la temporada actual: \n",
            "1. Verano \n",
            "2. Invierno \n",
            "3. Primevera y otoño\n",
            "2\n",
            "Ingrese el precio total de los productos con etiqueta roja: $100\n",
            "Ingrese el precio total de los productos con etiqueta verde: $100\n",
            "Ingrese el precio total de los productos faltantes: $0\n",
            "El total a pagar es: $ 155.0\n"
          ]
        }
      ]
    },
    {
      "cell_type": "markdown",
      "source": [
        "###ERA_PY_ACT3_10\n",
        "10. Programa que calcule el precio a pagar por un cliente, tomando en cuenta los descuentos correspondientes."
      ],
      "metadata": {
        "id": "PcJh_Xd373Ir"
      }
    },
    {
      "cell_type": "code",
      "source": [
        "import datetime\n",
        "fecha = datetime.datetime.today()\n",
        "dia = fecha.weekday()\n",
        "semana = [\"Lunes\", \"Martes\", \"Miércoles\", \"Jueves\", \"Viernes\", \"Sábado\", \"Domingo\"]\n",
        "print(f\"Hoy es: {semana[dia]}\")\n",
        "\n",
        "if dia == 0:\n",
        "    print(\"El día de hoy hay un 10% de descuento en el menú del dia\")\n",
        "    menu_des = float(input(\"Ingresa el precio total a pagar de el menú del día (De no haver pedido este menú ingresa 0): $\"))\n",
        "    menu_ex = float(input(\"Ingresa el precio total a pagar de el menú y/o platillos faltantes: $\"))\n",
        "    total = menu_ex + menu_des * 0.9\n",
        "\n",
        "elif dia == 1:\n",
        "    print(\"El día de hoy hay un 20% de descuento en el menú infantil\")\n",
        "    menu_des = float(input(\"Ingresa el precio total a pagar de el menú infantil (De no haver pedido este menú ingresa 0): $\"))\n",
        "    menu_ex = float(input(\"Ingresa el precio total a pagar de el menú y/o platillos faltantes: $\"))\n",
        "    total = menu_ex + menu_des * 0.8\n",
        "\n",
        "elif dia == 2:\n",
        "    print(\"El día de hoy hay un 15% de descuento en el menú vegetariano\")\n",
        "    menu_des = float(input(\"Ingresa el precio total a pagar de el menú vegetariano (De no haver pedido este menú ingresa 0): $\"))\n",
        "    menu_ex = float(input(\"Ingresa el precio total a pagar de el menú y/o platillos faltantes: $\"))\n",
        "    total = menu_ex + menu_des * 0.85\n",
        "\n",
        "elif dia == 3:\n",
        "    print(\"El día de hoy hay un 5% de descuento en el menú del chef\")\n",
        "    menu_des = float(input(\"Ingresa el precio total a pagar de el menú del chef (De no haver pedido este menú ingresa 0): $\"))\n",
        "    menu_ex = float(input(\"Ingresa el precio total a pagar de el menú y/o platillos faltantes: $\"))\n",
        "    total = menu_ex + menu_des * 0.95\n",
        "\n",
        "elif dia == 4:\n",
        "    print(\"El día de hoy hay un 5% de descuento en el menú del día\")\n",
        "    menu_des = float(input(\"Ingresa el precio total a pagar de el menú del día (De no haver pedido este menú ingresa 0): $\"))\n",
        "    menu_ex = float(input(\"Ingresa el precio total a pagar de el menú y/o platillos faltantes: $\"))\n",
        "    total = menu_ex + menu_des * 0.95\n",
        "\n",
        "else:\n",
        "    print(\"Sin descuentos\")\n",
        "    menu_ex = float(input(\"Ingresa el precio total a pagar: $\"))\n",
        "    total = menu_ex\n",
        "\n",
        "print(\"El total a pagar es: $\", total)\n",
        "print(f\"Gracias por su preferencia que tenga un excelente {semana[dia]}\")"
      ],
      "metadata": {
        "colab": {
          "base_uri": "https://localhost:8080/",
          "height": 0
        },
        "id": "iDxmza3z9fR9",
        "outputId": "909631c7-4bd4-48e2-d8ad-df8cc9dbbb53"
      },
      "execution_count": 24,
      "outputs": [
        {
          "output_type": "stream",
          "name": "stdout",
          "text": [
            "Hoy es: Martes\n",
            "El día de hoy hay un 20% de descuento en el menú infantil\n",
            "Ingresa el precio total a pagar de el menú infantil (De no haver pedido este menú ingresa 0): $200\n",
            "Ingresa el precio total a pagar de el menú y/o platillos faltantes: $100\n",
            "El total a pagar es: $ 260.0\n",
            "Gracias por su preferencia que tenga un excelente Martes\n"
          ]
        }
      ]
    }
  ]
}