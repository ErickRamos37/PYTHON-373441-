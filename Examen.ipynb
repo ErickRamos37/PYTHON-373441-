{
  "nbformat": 4,
  "nbformat_minor": 0,
  "metadata": {
    "colab": {
      "provenance": [],
      "authorship_tag": "ABX9TyOZzFqVfDoWcy517bsmuIhg",
      "include_colab_link": true
    },
    "kernelspec": {
      "name": "python3",
      "display_name": "Python 3"
    },
    "language_info": {
      "name": "python"
    }
  },
  "cells": [
    {
      "cell_type": "markdown",
      "metadata": {
        "id": "view-in-github",
        "colab_type": "text"
      },
      "source": [
        "<a href=\"https://colab.research.google.com/github/ErickRamos37/PYTHON-373441-/blob/main/Examen.ipynb\" target=\"_parent\"><img src=\"https://colab.research.google.com/assets/colab-badge.svg\" alt=\"Open In Colab\"/></a>"
      ]
    },
    {
      "cell_type": "markdown",
      "source": [
        "#Erick Ramos Alvarado\n"
      ],
      "metadata": {
        "id": "8L4YwO_MKRXn"
      }
    },
    {
      "cell_type": "markdown",
      "source": [
        "Escribe en google collaboratory una funcion de Python que realice lo siguiente:\n",
        "\n",
        "\n",
        "funcion que retorne un numero dentro de un rango dado, validar el numero que cumpla el requisito del rango, la funcion debera validar que el programa no marque error por introducir informacion erronea (usar try except)\n",
        "\n",
        "\n",
        "\n",
        "Escribir codigo que mande llamar la funcion y desplegar el resultado,\n",
        "\n",
        "\n",
        "\n",
        "Subir imagen y acceso a colab para verificar\n",
        "\n"
      ],
      "metadata": {
        "id": "VTDDJsZXFriL"
      }
    },
    {
      "cell_type": "code",
      "execution_count": 17,
      "metadata": {
        "id": "8X2GqqUaFoZd"
      },
      "outputs": [],
      "source": [
        "def vali_num(msg, ri, rf):\n",
        "    while True:\n",
        "        try:\n",
        "            num = int(input(msg))\n",
        "            if num < ri:\n",
        "                raise ValueError\n",
        "            elif num > rf:\n",
        "                raise ValueError\n",
        "        except ValueError:\n",
        "            print(f\"Erro: Ingresa un valor entero positivo del {ri} al {rf}\")\n",
        "            continue\n",
        "        else:\n",
        "            return num\n",
        "            break"
      ]
    },
    {
      "cell_type": "code",
      "source": [
        "RInicial = vali_num(\"ingresa el rango inicial: \", 0, 1000000)\n",
        "RFinal = vali_num(\"ingresa el rango final: \", RInicial, 1000000000)\n",
        "numero = vali_num(\"ingresa un número dentro del rango: \", RInicial, RFinal)"
      ],
      "metadata": {
        "colab": {
          "base_uri": "https://localhost:8080/"
        },
        "id": "ak3IB-o5GjbA",
        "outputId": "7961f8e8-7e3d-432f-d969-1bd257b09b97"
      },
      "execution_count": 16,
      "outputs": [
        {
          "name": "stdout",
          "output_type": "stream",
          "text": [
            "ingresa el rango inicial: 5\n",
            "ingresa el rango final: 10\n",
            "ingresa un número dentro del rango: 3\n",
            "Erro: Ingresa un valor entero positivo del 5 al 10\n",
            "ingresa un número dentro del rango: 6\n"
          ]
        }
      ]
    },
    {
      "cell_type": "markdown",
      "source": [
        "Escribe en google collaboratory una funcion de Python que realice lo siguiente:\n",
        "\n",
        "\n",
        "funcion que retorne una lista con 30 numeros generados aleatorios (20-60) no repetidos\n",
        "\n",
        "\n",
        "\n",
        "Escribir dos bloques de codigo que mande llamar la funcion y desplegar el resultado,\n",
        "\n",
        "bloque 1, llamar funcion y mostrar la lista normal desordenada\n",
        "\n",
        "bloque 2 . llamar funcion y mostrar la lista ordenada\n",
        "\n",
        "\n",
        "\n",
        "Subir imagen y acceso a colab para verificar"
      ],
      "metadata": {
        "id": "CGv9LmMILCGc"
      }
    },
    {
      "cell_type": "markdown",
      "source": [
        "#Erick Ramos Alvarado\n"
      ],
      "metadata": {
        "id": "jnDQejSFLZtm"
      }
    },
    {
      "cell_type": "code",
      "source": [
        "import random\n",
        "\n",
        "def generar_numeros_aleatorios():\n",
        "    numeros_aleatorios = random.sample(range(20, 61), 30)\n",
        "    return numeros_aleatorios"
      ],
      "metadata": {
        "id": "DnZZuUjcLG-9"
      },
      "execution_count": 18,
      "outputs": []
    },
    {
      "cell_type": "code",
      "source": [
        "numeros_desordenados = generar_numeros_aleatorios()\n",
        "print(\"Lista de números generados aleatoriamente (desordenada):\")\n",
        "print(numeros_desordenados)"
      ],
      "metadata": {
        "colab": {
          "base_uri": "https://localhost:8080/"
        },
        "id": "JZ97UwOhLMgx",
        "outputId": "33cd8624-181c-470e-8cb8-b59230b3e3ad"
      },
      "execution_count": 19,
      "outputs": [
        {
          "output_type": "stream",
          "name": "stdout",
          "text": [
            "Lista de números generados aleatoriamente (desordenada):\n",
            "[21, 31, 56, 37, 36, 28, 22, 48, 60, 40, 30, 47, 49, 32, 42, 29, 44, 33, 43, 59, 46, 24, 53, 51, 23, 38, 20, 58, 25, 39]\n"
          ]
        }
      ]
    },
    {
      "cell_type": "code",
      "source": [
        "numeros_ordenados = sorted(generar_numeros_aleatorios())\n",
        "print(\"Lista de números generados aleatoriamente (ordenada):\")\n",
        "print(numeros_ordenados)"
      ],
      "metadata": {
        "colab": {
          "base_uri": "https://localhost:8080/"
        },
        "id": "SzI2jdpRLMqO",
        "outputId": "95168ad4-c60d-4a05-e89b-f955aacae069"
      },
      "execution_count": 20,
      "outputs": [
        {
          "output_type": "stream",
          "name": "stdout",
          "text": [
            "Lista de números generados aleatoriamente (ordenada):\n",
            "[20, 21, 22, 23, 24, 25, 26, 29, 30, 31, 32, 33, 34, 36, 37, 38, 39, 40, 44, 46, 47, 48, 49, 50, 53, 54, 56, 57, 59, 60]\n"
          ]
        }
      ]
    }
  ]
}