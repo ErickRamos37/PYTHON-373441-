{
  "nbformat": 4,
  "nbformat_minor": 0,
  "metadata": {
    "colab": {
      "provenance": [],
      "authorship_tag": "ABX9TyM2VidtGQaelj7IbcRGvuFr",
      "include_colab_link": true
    },
    "kernelspec": {
      "name": "python3",
      "display_name": "Python 3"
    },
    "language_info": {
      "name": "python"
    }
  },
  "cells": [
    {
      "cell_type": "markdown",
      "metadata": {
        "id": "view-in-github",
        "colab_type": "text"
      },
      "source": [
        "<a href=\"https://colab.research.google.com/github/ErickRamos37/PYTHON-373441-/blob/main/Examen.ipynb\" target=\"_parent\"><img src=\"https://colab.research.google.com/assets/colab-badge.svg\" alt=\"Open In Colab\"/></a>"
      ]
    },
    {
      "cell_type": "markdown",
      "source": [
        "#Erick Ramos Alvarado\n",
        "\n",
        "Escribe en google collaboratory una funcion de Python que realice lo siguiente:\n",
        "\n",
        "\n",
        "funcion que retorne un numero dentro de un rango dado, validar el numero que cumpla el requisito del rango, la funcion debera validar que el programa no marque error por introducir informacion erronea (usar try except)\n",
        "\n",
        "\n",
        "\n",
        "Escribir codigo que mande llamar la funcion y desplegar el resultado,\n",
        "\n",
        "\n",
        "\n",
        "Subir imagen y acceso a colab para verificar\n",
        "\n"
      ],
      "metadata": {
        "id": "VTDDJsZXFriL"
      }
    },
    {
      "cell_type": "code",
      "execution_count": 14,
      "metadata": {
        "id": "8X2GqqUaFoZd"
      },
      "outputs": [],
      "source": [
        "def vali_num(msg, ri, rf):\n",
        "    while True:\n",
        "        try:\n",
        "            num = int(input(msg))\n",
        "            if num < ri:\n",
        "                raise ValueError\n",
        "            elif num > rf:\n",
        "                raise ValueError\n",
        "        except ValueError:\n",
        "            print(f\"Erro: Ingresa un valor entero positivo del {ri} al {rf}\")\n",
        "            continue\n",
        "        else:\n",
        "            return num\n",
        "            break"
      ]
    },
    {
      "cell_type": "code",
      "source": [
        "RInicial = vali_num(\"ingresa el rango inicial: \", 0, 1000000)\n",
        "RFinal = vali_num(\"ingresa el rango final: \", RInicial, 1000000000)\n",
        "numero = vali_num(\"ingresa un número dentro del rango: \", RInicial, RFinal)"
      ],
      "metadata": {
        "colab": {
          "base_uri": "https://localhost:8080/"
        },
        "id": "ak3IB-o5GjbA",
        "outputId": "7961f8e8-7e3d-432f-d969-1bd257b09b97"
      },
      "execution_count": 16,
      "outputs": [
        {
          "name": "stdout",
          "output_type": "stream",
          "text": [
            "ingresa el rango inicial: 5\n",
            "ingresa el rango final: 10\n",
            "ingresa un número dentro del rango: 3\n",
            "Erro: Ingresa un valor entero positivo del 5 al 10\n",
            "ingresa un número dentro del rango: 6\n"
          ]
        }
      ]
    }
  ]
}