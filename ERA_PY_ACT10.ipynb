{
  "nbformat": 4,
  "nbformat_minor": 0,
  "metadata": {
    "colab": {
      "provenance": [],
      "authorship_tag": "ABX9TyNru5dWbvfUlulq6uE0XZ0U",
      "include_colab_link": true
    },
    "kernelspec": {
      "name": "python3",
      "display_name": "Python 3"
    },
    "language_info": {
      "name": "python"
    }
  },
  "cells": [
    {
      "cell_type": "markdown",
      "metadata": {
        "id": "view-in-github",
        "colab_type": "text"
      },
      "source": [
        "<a href=\"https://colab.research.google.com/github/ErickRamos37/PYTHON-373441-/blob/main/ERA_PY_ACT10.ipynb\" target=\"_parent\"><img src=\"https://colab.research.google.com/assets/colab-badge.svg\" alt=\"Open In Colab\"/></a>"
      ]
    },
    {
      "cell_type": "markdown",
      "source": [
        "#ERA_PY_ACT10\n",
        "##ACTIVIDAD 10\n",
        "REALIZA UN PROGRAMA QUE UTILICE UNA LISTA DE DICCIONARIOS\n",
        "\n",
        "\n",
        "\n",
        "MENU\n",
        "\n",
        "1.- Agregar (automatico)\n",
        "\n",
        "2.- Agregar (manual)\n",
        "\n",
        "3.- Imprimir lista\n",
        "\n",
        " a)\n",
        "\n",
        " b)\n",
        "\n",
        " c)\n",
        "\n",
        "4.- Buscar {ID}\n",
        "\n",
        "5.- Ordenar\n",
        "\n",
        "6.- Eliminar {ID}\n",
        "\n",
        "7.- Borrar Toda la lista {ID}\n",
        "\n",
        "0.- SALIR\n",
        "\n",
        "\n",
        "\n",
        "NOTA: Los datos del diccionario son los Datos básicos de un trabajador de una fabrica.\n",
        "\n",
        "\n",
        "\n",
        "\n",
        "NOTA 2: VALIDAR EL PROGRAMA 100%\n",
        "\n",
        "Preguntar siempre si esta seguro eliminar, No ordenar si ya esta Ordenado, decir si lista vacía, no existe o mostrar si estala búsqueda, No se permiten ID repetidos"
      ],
      "metadata": {
        "id": "8jivMuR305dS"
      }
    },
    {
      "cell_type": "code",
      "source": [
        "pip install pandas"
      ],
      "metadata": {
        "colab": {
          "base_uri": "https://localhost:8080/"
        },
        "id": "_9-rQVCeWVWQ",
        "outputId": "73bff060-5ab0-4c6e-9026-3c3be9c997fc"
      },
      "execution_count": 12,
      "outputs": [
        {
          "output_type": "stream",
          "name": "stdout",
          "text": [
            "Requirement already satisfied: pandas in /usr/local/lib/python3.10/dist-packages (2.0.3)\n",
            "Requirement already satisfied: python-dateutil>=2.8.2 in /usr/local/lib/python3.10/dist-packages (from pandas) (2.8.2)\n",
            "Requirement already satisfied: pytz>=2020.1 in /usr/local/lib/python3.10/dist-packages (from pandas) (2023.4)\n",
            "Requirement already satisfied: tzdata>=2022.1 in /usr/local/lib/python3.10/dist-packages (from pandas) (2024.1)\n",
            "Requirement already satisfied: numpy>=1.21.0 in /usr/local/lib/python3.10/dist-packages (from pandas) (1.25.2)\n",
            "Requirement already satisfied: six>=1.5 in /usr/local/lib/python3.10/dist-packages (from python-dateutil>=2.8.2->pandas) (1.16.0)\n"
          ]
        }
      ]
    },
    {
      "cell_type": "code",
      "source": [
        "import pandas as pd"
      ],
      "metadata": {
        "id": "AgaNY_AnWQoA"
      },
      "execution_count": 11,
      "outputs": []
    },
    {
      "cell_type": "code",
      "source": [
        "def vali_num(msg, ri, rf):\n",
        "    while True:\n",
        "        try:\n",
        "            num = int(input(msg))\n",
        "            if num < ri:\n",
        "                raise ValueError\n",
        "            elif num > rf:\n",
        "                raise ValueError\n",
        "        except ValueError:\n",
        "            print(f\"Erro: Ingresa un valor entero positivo del {ri} al {rf}\")\n",
        "            continue\n",
        "\n",
        "        return num\n",
        "        break\n",
        "\n",
        "def Vali_Nombre(msg, tipo):\n",
        "    while True:\n",
        "        try:\n",
        "            nombres = input(msg)\n",
        "            nombres_lista = nombres.split()\n",
        "\n",
        "            if len(nombres_lista) == 0:\n",
        "                print(\"Error: Debes ingresar al menos un nombre.\")\n",
        "                raise ValueError\n",
        "\n",
        "            if len(nombres_lista) > tipo:\n",
        "                print(f\"Error: Solo puedes ingresar {tipo} nombres como máximo.\")\n",
        "                raise ValueError\n",
        "\n",
        "            for nombre in nombres_lista:\n",
        "                if not nombre.isalpha():\n",
        "                    print(\"Error: Los nombres solo pueden contener letras.\")\n",
        "                    raise ValueError\n",
        "\n",
        "        except ValueError:\n",
        "            continue\n",
        "\n",
        "        return \" \".join(nombres_lista)\n",
        "        break"
      ],
      "metadata": {
        "id": "Ym5Cc3mX3_PX"
      },
      "execution_count": 19,
      "outputs": []
    },
    {
      "cell_type": "code",
      "source": [
        "def agregar_trabajador_automatico():\n",
        "    global trabajadores\n",
        "\n",
        "    nuevo_trabajador = {\n",
        "        'ID': len(trabajadores) + 1,\n",
        "        'nombre': 'nombre',\n",
        "        'apellido': 'apellido',\n",
        "        'cargo': 'no definido',\n",
        "        'salario': 0,\n",
        "    }\n",
        "    trabajadores.append(nuevo_trabajador)\n",
        "    print(\"trabajador agregado automaticamente\")\n",
        "\n",
        "def agregar_trabajador_manual():\n",
        "    global trabajadores\n",
        "\n",
        "    nom = Vali_Nombre(\"Ingresa el nombre o nombres: \", 2)\n",
        "    Pate = Vali_Nombre(\"Ingresa el apellido paterno: \", 1)\n",
        "    Mate = Vali_Nombre(\"Ingresa el apellido materno: \", 1)\n",
        "    apellidos = [Pate, Mate]\n",
        "    carg = Vali_Nombre(\"Ingresa el cargo: \", 1)\n",
        "    sal = vali_num(\"Ingresa el salario\", 7468, 1000000)\n",
        "\n",
        "    nuevo_trabajador = {\n",
        "        'ID': len(trabajadores) + 1,\n",
        "        'nombre': nom,\n",
        "        'apellido': apellidos,\n",
        "        'cargo': carg,\n",
        "        'salario': sal\n",
        "    }\n",
        "    trabajadores.append(nuevo_trabajador)\n",
        "    print(\"Trabajador agregado manualmente.\")\n",
        "\n",
        "def imprimir_lista():\n",
        "    global trabajadores\n",
        "    if not trabajadores:\n",
        "        print(\"lista vacia\")\n",
        "        return\n",
        "\n",
        "    df = pd.DataFrame(trabajadores)\n",
        "    print(df)\n",
        "\n",
        "def buscar_por_id(id_buscar):\n",
        "    global trabajadores\n",
        "    for trabajador in trabajadores:\n",
        "        if trabajador['ID'] == id_buscar:\n",
        "            return trabajador\n",
        "    return None\n",
        "\n",
        "def buscar_trabajador():\n",
        "    id_buscar = vali_num(\"Ingresa la ID del trabajador a buscar: \", 0, 100)\n",
        "    trabajador = buscar_por_id(id_buscar)\n",
        "    if trabajador:\n",
        "        print(\"Se ha encontradoel trabajador:\")\n",
        "        print(pd.DataFrame([trabajador]))\n",
        "    else:\n",
        "        print(\"error, favor de ingresar un ID valido.\")\n",
        "\n",
        "def ordenar_lista():\n",
        "    global trabajadores\n",
        "    if not trabajadores:\n",
        "        print(\"lista vacia\")\n",
        "        return\n",
        "\n",
        "    if len(trabajadores) <= 1:\n",
        "        print(\"la lista debe tener mas de dos trabajadores para poder ordenar\")\n",
        "        return\n",
        "\n",
        "    trabajadores.sort(key=lambda x: x['ID'])\n",
        "    print(\"lista ordenada por ID.\")\n",
        "\n",
        "def eliminar_trabajador(id_eliminar):\n",
        "    global trabajadores\n",
        "    trabajador = buscar_por_id(id_eliminar)\n",
        "    if trabajador:\n",
        "        trabajadores.remove(trabajador)\n",
        "        print(\"el trabajador ha sido eliminado\")\n",
        "    else:\n",
        "        print(\"error, favor de ingresar un ID valido.\")\n",
        "\n",
        "def borrar_toda_la_lista():\n",
        "    global trabajadores\n",
        "    if not trabajadores:\n",
        "        print(\"lista vacia\")\n",
        "        return\n",
        "\n",
        "    confirmacion = input(\"deseas confirmar? S/N\")\n",
        "    if confirmacion.lower() == 's':\n",
        "        trabajadores = []\n",
        "        print(\"lista borrada\")\n",
        "    else:\n",
        "        print(\"cancelado\")"
      ],
      "metadata": {
        "id": "4j4CYdSq-ncF"
      },
      "execution_count": 14,
      "outputs": []
    },
    {
      "cell_type": "code",
      "execution_count": 17,
      "metadata": {
        "id": "jleruT4J04dc"
      },
      "outputs": [],
      "source": [
        "def menu(ri, rf):\n",
        "    while True:\n",
        "        try:\n",
        "            msge()\n",
        "            op = int(input(\"Elige una opción: \"))\n",
        "            if op > rf:\n",
        "                raise ValueError\n",
        "            if op < ri:\n",
        "                raise ValueError\n",
        "            if op == 0:\n",
        "                break\n",
        "            else:\n",
        "                if op == 1:\n",
        "                    agregar_trabajador_automatico()\n",
        "                if op == 2:\n",
        "                    agregar_trabajador_manual()\n",
        "                if op == 3:\n",
        "                    imprimir_lista()\n",
        "                if op == 4:\n",
        "                    buscar_trabajador()\n",
        "                if op == 5:\n",
        "                    ordenar_lista()\n",
        "                if op == 6:\n",
        "                    id_eliminar = vali_num(\"Ingresa la ID del trabajador a eliminar: \", 0, 100)\n",
        "                    eliminar_trabajador(id_eliminar)\n",
        "                if op == 7:\n",
        "                    borrar_toda_la_lista()\n",
        "                elif op == 0:\n",
        "                    print(\"Seleccionaste salir\")\n",
        "                    break\n",
        "        except ValueError:\n",
        "            print(f\"Error: Ingresa un valor entero positivo del {ri} al {rf}\")\n",
        "            continue\n",
        "\n",
        "def msge():\n",
        "    from IPython.display import clear_output\n",
        "    input(\"Preciona enter para continuar\")\n",
        "    clear_output()\n",
        "    print(\"\\tMenú\")\n",
        "    print(\"1. Agregar (automático)\")\n",
        "    print(\"2. Agregar (manual)\")\n",
        "    print(\"3. Imprimir lista\")\n",
        "    print(\"4. Buscar {ID}\")\n",
        "    print(\"5. Ordenar\")\n",
        "    print(\"6. Eliminar {ID}\")\n",
        "    print(\"7. Borrar Toda la lista\")\n",
        "    print(\"0.   Salir\")"
      ]
    },
    {
      "cell_type": "code",
      "source": [
        "trabajadores = []\n",
        "cont = 0\n",
        "menu(0, 7)"
      ],
      "metadata": {
        "id": "WA4ngw5F3i5N",
        "colab": {
          "base_uri": "https://localhost:8080/",
          "height": 176
        },
        "outputId": "40d53ed1-ea01-48e9-e706-7975690d5872"
      },
      "execution_count": 2,
      "outputs": [
        {
          "output_type": "error",
          "ename": "NameError",
          "evalue": "name 'menu' is not defined",
          "traceback": [
            "\u001b[0;31m---------------------------------------------------------------------------\u001b[0m",
            "\u001b[0;31mNameError\u001b[0m                                 Traceback (most recent call last)",
            "\u001b[0;32m<ipython-input-2-a4e6740ef4ab>\u001b[0m in \u001b[0;36m<cell line: 3>\u001b[0;34m()\u001b[0m\n\u001b[1;32m      1\u001b[0m \u001b[0mtrabajadores\u001b[0m \u001b[0;34m=\u001b[0m \u001b[0;34m[\u001b[0m\u001b[0;34m]\u001b[0m\u001b[0;34m\u001b[0m\u001b[0;34m\u001b[0m\u001b[0m\n\u001b[1;32m      2\u001b[0m \u001b[0mcont\u001b[0m \u001b[0;34m=\u001b[0m \u001b[0;36m0\u001b[0m\u001b[0;34m\u001b[0m\u001b[0;34m\u001b[0m\u001b[0m\n\u001b[0;32m----> 3\u001b[0;31m \u001b[0mmenu\u001b[0m\u001b[0;34m(\u001b[0m\u001b[0;36m0\u001b[0m\u001b[0;34m,\u001b[0m \u001b[0;36m7\u001b[0m\u001b[0;34m)\u001b[0m\u001b[0;34m\u001b[0m\u001b[0;34m\u001b[0m\u001b[0m\n\u001b[0m",
            "\u001b[0;31mNameError\u001b[0m: name 'menu' is not defined"
          ]
        }
      ]
    }
  ]
}