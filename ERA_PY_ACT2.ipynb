{
  "nbformat": 4,
  "nbformat_minor": 0,
  "metadata": {
    "colab": {
      "provenance": [],
      "authorship_tag": "ABX9TyMZyR2yxiN6FCRKMOAOTQLh",
      "include_colab_link": true
    },
    "kernelspec": {
      "name": "python3",
      "display_name": "Python 3"
    },
    "language_info": {
      "name": "python"
    }
  },
  "cells": [
    {
      "cell_type": "markdown",
      "metadata": {
        "id": "view-in-github",
        "colab_type": "text"
      },
      "source": [
        "<a href=\"https://colab.research.google.com/github/ErickRamos37/PYTHON-373441-/blob/main/ERA_PY_ACT2.ipynb\" target=\"_parent\"><img src=\"https://colab.research.google.com/assets/colab-badge.svg\" alt=\"Open In Colab\"/></a>"
      ]
    },
    {
      "cell_type": "markdown",
      "source": [
        "# ACTIVIDAD 2\n",
        "## ERA_PY_ACT2"
      ],
      "metadata": {
        "id": "msiS4jxIevJn"
      }
    },
    {
      "cell_type": "markdown",
      "source": [
        "### ERA_PY_ACT2_A01\n",
        "1.  Programa en Python que lea 2 números enteros, usar una condición y analizar los dos números y desplegar cual de los números es el mayor."
      ],
      "metadata": {
        "id": "or-12PmXo9rp"
      }
    },
    {
      "cell_type": "code",
      "source": [
        "num1 = int(input(\"Ingresa el primer número: \"))\n",
        "num2 = int(input(\"Ingresa el segundo número: \"))\n",
        "\n",
        "if num1 == num2:\n",
        "    print(\"Los números son iguales\")\n",
        "elif num1 > num2:\n",
        "    print(\"El número mayor es:\", num1)\n",
        "else:\n",
        "    print(\"El número mayor es:\", num2)"
      ],
      "metadata": {
        "id": "i3zzPUJ8gq5W"
      },
      "execution_count": null,
      "outputs": []
    },
    {
      "cell_type": "markdown",
      "source": [
        "### ERA_PY_ACT2_A02\n",
        "2.  Programa en que lea 4 calificaciones de un alumno, calcular y desplegar el promedio acompañado de la leyenda \"APROBADO\" o \"REPROBADO\"."
      ],
      "metadata": {
        "id": "ZA0xOJo5odCR"
      }
    },
    {
      "cell_type": "code",
      "source": [
        "cal1 = int(input(\"Ingresa la primera \"))"
      ],
      "metadata": {
        "id": "IsJwXmGrqiMl"
      },
      "execution_count": null,
      "outputs": []
    }
  ]
}