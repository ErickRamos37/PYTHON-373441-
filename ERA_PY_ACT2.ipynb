{
  "nbformat": 4,
  "nbformat_minor": 0,
  "metadata": {
    "colab": {
      "provenance": [],
      "authorship_tag": "ABX9TyOKlp2p9yl/QUglTG9WPu7N",
      "include_colab_link": true
    },
    "kernelspec": {
      "name": "python3",
      "display_name": "Python 3"
    },
    "language_info": {
      "name": "python"
    }
  },
  "cells": [
    {
      "cell_type": "markdown",
      "metadata": {
        "id": "view-in-github",
        "colab_type": "text"
      },
      "source": [
        "<a href=\"https://colab.research.google.com/github/ErickRamos37/PYTHON-373441-/blob/main/ERA_PY_ACT2.ipynb\" target=\"_parent\"><img src=\"https://colab.research.google.com/assets/colab-badge.svg\" alt=\"Open In Colab\"/></a>"
      ]
    },
    {
      "cell_type": "markdown",
      "source": [
        "# ACTIVIDAD 2\n",
        "## ERA_PY_ACT2"
      ],
      "metadata": {
        "id": "msiS4jxIevJn"
      }
    },
    {
      "cell_type": "markdown",
      "source": [
        "### ERA_PY_ACT2_A01\n",
        "1.  Programa en Python que lea 2 números enteros, usar una condición y analizar los dos números y desplegar cual de los números es el mayor."
      ],
      "metadata": {
        "id": "or-12PmXo9rp"
      }
    },
    {
      "cell_type": "code",
      "source": [
        "num1 = int(input(\"Ingresa el primer número: \"))\n",
        "num2 = int(input(\"Ingresa el segundo número: \"))\n",
        "\n",
        "if num1 == num2:\n",
        "    print(\"Los números son iguales\")\n",
        "else:\n",
        "    if num1 > num2:\n",
        "        print(\"El número mayor es:\", num1)\n",
        "    else:\n",
        "        print(\"El número mayor es:\", num2)"
      ],
      "metadata": {
        "id": "i3zzPUJ8gq5W"
      },
      "execution_count": null,
      "outputs": []
    },
    {
      "cell_type": "markdown",
      "source": [
        "### ERA_PY_ACT2_A02\n",
        "2.  Programa en que lea 4 calificaciones de un alumno, calcular y desplegar el promedio acompañado de la leyenda \"APROBADO\" o \"REPROBADO\"."
      ],
      "metadata": {
        "id": "ZA0xOJo5odCR"
      }
    },
    {
      "cell_type": "code",
      "source": [
        "cal1 = int(input(\"Ingresa la primera calificación: \"))\n",
        "cal2 = int(input(\"Ingresa la segunda calificación: \"))\n",
        "cal3 = int(input(\"Ingresa la tercera calificación: \"))\n",
        "cal4 = int(input(\"Ingresa la cuarta calificación: \"))\n",
        "\n",
        "prom = (cal1 + cal2 + cal3 + cal4)/4\n",
        "\n",
        "if prom > 100:\n",
        "        print(\"Calificación no válida\")\n",
        "else:\n",
        "    if prom >= 60:\n",
        "        print(\"Has APROBADO tu calificación es:\", prom)\n",
        "    else:\n",
        "        print(\"Has REPROBADO tu calificación es:\", prom)"
      ],
      "metadata": {
        "id": "IsJwXmGrqiMl"
      },
      "execution_count": null,
      "outputs": []
    },
    {
      "cell_type": "markdown",
      "source": [
        "### ERA_PY_ACT2_A03\n",
        "3.  Programa en PythonAlgoritmo que a través de opciones (1.- HOMBRE 2.- MUJER ) preguntar al usuario cual es su sexo y desplegar la leyenda “HOMBRE ”, “MUJER”."
      ],
      "metadata": {
        "id": "UMzxZmnUf2CR"
      }
    },
    {
      "cell_type": "code",
      "source": [
        "print(\"Ingresa el número que corresponda a tu sexo: \\n1. Hombre \\n2. Mujer\")\n",
        "sex = int(input(\"\"))\n",
        "if sex == 1:\n",
        "    print(\"HOMBRE\")\n",
        "else:\n",
        "    if sex == 2:\n",
        "        print(\"MUJER\")\n",
        "    else:\n",
        "        print(\"Opción no valida\")"
      ],
      "metadata": {
        "id": "HQQn9iURgLkr"
      },
      "execution_count": null,
      "outputs": []
    },
    {
      "cell_type": "markdown",
      "source": [
        "### ERA_PY_ACT2_A04\n",
        "4.  Programa en Python que lea un número entero, y desplegar si el número es “PAR” o “IMPAR”."
      ],
      "metadata": {
        "id": "Z_if5cpPiTPA"
      }
    },
    {
      "cell_type": "code",
      "source": [
        "num = int(input(\"Ingresa un número \"))\n",
        "res = num % 2\n",
        "if res == 0:\n",
        "    print(\"El número \", num, \" es un número par\")\n",
        "else:\n",
        "    print(\"Esté número\", num,  \"es un número impar\")"
      ],
      "metadata": {
        "id": "5za98KGLieC1"
      },
      "execution_count": null,
      "outputs": []
    },
    {
      "cell_type": "markdown",
      "source": [
        "### ERA_PY_ACT2_A05\n",
        "5.  Programa en Python que lea 2 números enteros, usar una condición y analizar los dos números y desplegar cual de los números es el mayor."
      ],
      "metadata": {
        "id": "ja3wms7RlV5N"
      }
    },
    {
      "cell_type": "code",
      "source": [
        "num1 = int(input(\"Ingresa el primero número: \"))\n",
        "num2 = int(input(\"Ingresa el segundo número: \"))\n",
        "\n",
        "if num1 == num2:\n",
        "    print(\"Los números son iguales\")\n",
        "elif num1 > num2:\n",
        "    print(\"El número\", num1, \"es el mayor\")\n",
        "else:\n",
        "    print(\"El número\", num2, \"es el mayor\")"
      ],
      "metadata": {
        "id": "nRbtzggGl6h2"
      },
      "execution_count": null,
      "outputs": []
    },
    {
      "cell_type": "markdown",
      "source": [
        "### ERA_PY_ACT2_A06\n",
        "6.  Programa en Python que lea 4 calificaciones de un alumno, calcular y desplegar el promedio acompañado de la leyenda APROBADO o REPROBADO."
      ],
      "metadata": {
        "id": "bBsMMKPZpTp3"
      }
    },
    {
      "cell_type": "code",
      "source": [
        "cal1 = int(input(\"Ingresa la primera calificación: \"))\n",
        "cal2 = int(input(\"Ingresa la segunda calificación: \"))\n",
        "cal3 = int(input(\"Ingresa la tercera calificación: \"))\n",
        "cal4 = int(input(\"Ingresa la cuarta calificación: \"))\n",
        "\n",
        "prom = (cal1 + cal2 + cal3 + cal4)/4\n",
        "\n",
        "if prom > 100:\n",
        "    print(\"Calificación no válida\")\n",
        "elif prom >= 60:\n",
        "    print(\"Tu promedio es:\", prom, \"Has APROBADO\")\n",
        "else:\n",
        "    print(\"Tu promedio es:\", prom, \"Has REPROBADO\")"
      ],
      "metadata": {
        "id": "fttXlIpSp79c"
      },
      "execution_count": null,
      "outputs": []
    },
    {
      "cell_type": "markdown",
      "source": [
        "### ERA_PY_ACT2_A07\n",
        "7.  Programa en Python que a través de opciones (1.- HOMBRE 2.- MUJER ) preguntar al usuario cual es su sexo y desplegar la leyenda “HOMBRE ”, “MUJER”."
      ],
      "metadata": {
        "id": "5iC8uvyPt3v3"
      }
    },
    {
      "cell_type": "code",
      "source": [
        "print(\"Ingresa el número que corresponda a tu sexo: \\n1. Hombre \\n2. Mujer\")\n",
        "sex = int(input(\"\"))\n",
        "if sex == 1:\n",
        "    print(\"HOMBRE\")\n",
        "elif sex == 2:\n",
        "    print(\"MUJER\")\n",
        "else:\n",
        "    print(\"Opción no valida\")"
      ],
      "metadata": {
        "id": "t66C03cHuC34"
      },
      "execution_count": null,
      "outputs": []
    },
    {
      "cell_type": "markdown",
      "source": [
        "### ERA_PY_ACT2_A08\n",
        "8.  Programa en Python que lea un número entero, y desplegar si el número es “PAR” o “IMPAR” NOTA: EJERCICIOS PARA SER RESUELTOS USANDO EXCLUSIVAMENTE CONDICIONES COMPUESTO."
      ],
      "metadata": {
        "id": "6xtJ2RW_uVu9"
      }
    },
    {
      "cell_type": "code",
      "source": [
        "num = int(input(\"Ingresa un número \"))\n",
        "res = num % 2\n",
        "if res == 0:\n",
        "    print(\"El número \", num, \" es un número par\")\n",
        "elif res != 0:\n",
        "    print(\"Esté número\", num,  \"es un número impar\")"
      ],
      "metadata": {
        "id": "SvmDfoGfuex4"
      },
      "execution_count": null,
      "outputs": []
    }
  ]
}