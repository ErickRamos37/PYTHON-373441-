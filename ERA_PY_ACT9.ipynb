{
  "nbformat": 4,
  "nbformat_minor": 0,
  "metadata": {
    "colab": {
      "provenance": [],
      "authorship_tag": "ABX9TyPVVNZOXxaYlOnZz+ggPVld",
      "include_colab_link": true
    },
    "kernelspec": {
      "name": "python3",
      "display_name": "Python 3"
    },
    "language_info": {
      "name": "python"
    }
  },
  "cells": [
    {
      "cell_type": "markdown",
      "metadata": {
        "id": "view-in-github",
        "colab_type": "text"
      },
      "source": [
        "<a href=\"https://colab.research.google.com/github/ErickRamos37/PYTHON-373441-/blob/main/ERA_PY_ACT9.ipynb\" target=\"_parent\"><img src=\"https://colab.research.google.com/assets/colab-badge.svg\" alt=\"Open In Colab\"/></a>"
      ]
    },
    {
      "cell_type": "markdown",
      "source": [
        "#ERA_PY_ACT9\n"
      ],
      "metadata": {
        "id": "tEpgD32lxy5F"
      }
    },
    {
      "cell_type": "markdown",
      "source": [
        "ACTIVIDAD 9\n",
        "\n",
        "\n",
        "Realiza un programa en python que utilice el siguiente menu:\n",
        "\n",
        " MENU\n",
        "\n",
        " 1. Crear Diccionario\n",
        "\n",
        " 2. Imprimir Diccionario\n",
        "\n",
        " 0. Salir\n",
        "\n",
        "\n",
        "\n",
        "CREAR DICCIIONARIO: funcion que retorne un diccionario con los datos de basicos de un alumno, donde se pide {id,nombre (1 O 2) , appaterno,apmaterno, edad,sexo}, El diccionario se debe generar automaticmanete a partir de listas.\n",
        "\n",
        "\n",
        "\n",
        "IMPRIMIR DICCIONARIO:  Funcion que reciba como parametro el diccionario, y le de una salida mostrando la informacion en forma de registro que se genero con el diccionario"
      ],
      "metadata": {
        "id": "Vcz234gIx9XB"
      }
    },
    {
      "cell_type": "code",
      "source": [
        "Datos = [\"Matrícula\", \"Nombre\", \"Apellido paterno\", \"Apellido materno\", \"Edad\", \"Sexo\"]\n",
        "Alumno = []\n",
        "Registro = dict(zip(Datos, Alumno))\n",
        "Alum_reg = 0\n",
        "menu(0, 2, Alum_reg)"
      ],
      "metadata": {
        "id": "iqJV3RBl2ScV",
        "colab": {
          "base_uri": "https://localhost:8080/",
          "height": 0
        },
        "outputId": "baf5be8e-1a34-462b-8707-e8f5759f73da"
      },
      "execution_count": 63,
      "outputs": [
        {
          "name": "stdout",
          "output_type": "stream",
          "text": [
            "\tMenú\n",
            "1.   Crear Diccionario\n",
            "2.   Imprimir Diccionario\n",
            "0.   Salir\n",
            "Elige una opción: 0\n"
          ]
        }
      ]
    },
    {
      "cell_type": "code",
      "execution_count": 48,
      "metadata": {
        "id": "6_wXfKRPxiSj"
      },
      "outputs": [],
      "source": [
        "def menu(ri, rf, Alum_reg):\n",
        "    while True:\n",
        "        try:\n",
        "            msge()\n",
        "            op = int(input(\"Elige una opción: \"))\n",
        "            if op > rf:\n",
        "                raise ValueError\n",
        "            if op < ri:\n",
        "                raise ValueError\n",
        "            if op == 0:\n",
        "                break\n",
        "            else:\n",
        "                if op == 1:\n",
        "                    Alum_reg = Llenar_Dic(Alum_reg)\n",
        "                if op == 2:\n",
        "                    for i in range(0, Alum_reg):\n",
        "                        print(f\"\\nAlumno {i + 1}\")\n",
        "                        for i in range(0, len(Datos)):\n",
        "                            print(Datos[i],\": \",Alumno[i])\n",
        "                elif op == 0:\n",
        "                    print(\"Seleccionaste salir\")\n",
        "                    break\n",
        "        except ValueError:\n",
        "            print(f\"Error: Ingresa un valor entero positivo del {ri} al {rf}\")\n",
        "            continue"
      ]
    },
    {
      "cell_type": "code",
      "source": [
        "def msge():\n",
        "    from IPython.display import clear_output\n",
        "    input(\"Preciona enter para continuar\")\n",
        "    clear_output()\n",
        "    print(\"\\tMenú\")\n",
        "    print(\"1.   Crear Diccionario\")\n",
        "    print(\"2.   Imprimir Diccionario\")\n",
        "    print(\"0.   Salir\")"
      ],
      "metadata": {
        "id": "pIS5c2-u2M7m"
      },
      "execution_count": 28,
      "outputs": []
    },
    {
      "cell_type": "code",
      "source": [
        "def vali_num(msg, ri, rf):\n",
        "    while True:\n",
        "        try:\n",
        "            num = int(input(msg))\n",
        "            if num < ri:\n",
        "                raise ValueError\n",
        "            elif num > rf:\n",
        "                raise ValueError\n",
        "        except ValueError:\n",
        "            print(f\"Erro: Ingresa un valor entero positivo del {ri} al {rf}\")\n",
        "            continue\n",
        "\n",
        "    return num"
      ],
      "metadata": {
        "id": "xRCFwK3rKnex"
      },
      "execution_count": 50,
      "outputs": []
    },
    {
      "cell_type": "code",
      "source": [
        "def Vali_Nombre(msg, tipo):\n",
        "    while True:\n",
        "        try:\n",
        "            nombres = input(msg)\n",
        "            nombres_lista = nombres.split()\n",
        "\n",
        "            if len(nombres_lista) == 0:\n",
        "                print(\"Error: Debes ingresar al menos un nombre.\")\n",
        "                raise ValueError\n",
        "\n",
        "            if len(nombres_lista) > tipo:\n",
        "                print(f\"Error: Solo puedes ingresar {tipo} nombres como máximo.\")\n",
        "                raise ValueError\n",
        "\n",
        "            for nombre in nombres_lista:\n",
        "                if not nombre.isalpha():\n",
        "                    print(\"Error: Los nombres solo pueden contener letras.\")\n",
        "                    raise ValueError\n",
        "\n",
        "        except ValueError:\n",
        "            continue\n",
        "\n",
        "        return \" \".join(nombres_lista)\n",
        "        break"
      ],
      "metadata": {
        "id": "E7PDP4W-W0ke"
      },
      "execution_count": 58,
      "outputs": []
    },
    {
      "cell_type": "code",
      "source": [
        "def Llenar_Dic(Alum_reg):\n",
        "    matri = vali_num(\"Ingresa tu Matrícula: \", 300000, 399000)\n",
        "    nom = Vali_Nombre(\"Ingresa tu nombre o nombres: \", 2)\n",
        "    Pate = Vali_Nombre(\"Ingresa tu apellido paterno: \", 1)\n",
        "    Mate = Vali_Nombre(\"Ingresa tu apellido materno: \", 1)\n",
        "    eda = vali_num(\"Ingresa tu edad: \", 17, 120)\n",
        "    bi = vali_num(\"Ingresa el número correspondiente a tu sexo \\n1.   Masculino \\n2.  Femenino\\n\", 1, 2)\n",
        "    if bi == 1:\n",
        "        sex = \"M\"\n",
        "    elif bi == 2:\n",
        "        sex = \"F\"\n",
        "\n",
        "    Alumno.append(matri)\n",
        "    Alumno.append(nom)\n",
        "    Alumno.append(Pate)\n",
        "    Alumno.append(Mate)\n",
        "    Alumno.append(eda)\n",
        "    Alumno.append(sex)\n",
        "\n",
        "    Alum_reg = Alum_reg + 1\n",
        "    return Alum_reg"
      ],
      "metadata": {
        "id": "t2xwBWLsWICA"
      },
      "execution_count": 62,
      "outputs": []
    }
  ]
}