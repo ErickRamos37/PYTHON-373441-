{
  "nbformat": 4,
  "nbformat_minor": 0,
  "metadata": {
    "colab": {
      "provenance": [],
      "toc_visible": true,
      "authorship_tag": "ABX9TyMg7O4HkSTdOQA7ZgEiSZFu",
      "include_colab_link": true
    },
    "kernelspec": {
      "name": "python3",
      "display_name": "Python 3"
    },
    "language_info": {
      "name": "python"
    }
  },
  "cells": [
    {
      "cell_type": "markdown",
      "metadata": {
        "id": "view-in-github",
        "colab_type": "text"
      },
      "source": [
        "<a href=\"https://colab.research.google.com/github/ErickRamos37/PYTHON-373441-/blob/main/ERA_PY_ACT4.ipynb\" target=\"_parent\"><img src=\"https://colab.research.google.com/assets/colab-badge.svg\" alt=\"Open In Colab\"/></a>"
      ]
    },
    {
      "cell_type": "markdown",
      "source": [
        "#**ACTIVIDAD 4**\n",
        "##CONTROL DE FLUJO EN PYTHON y `try` `Except`\n",
        "\n",
        "##_Erick Ramos Alvarado 373441_\n",
        "\n",
        "###ERA_PY_ACT4\n"
      ],
      "metadata": {
        "id": "xP33J_X7P6e5"
      }
    },
    {
      "cell_type": "markdown",
      "source": [
        "###ERA_PY_ACT4_01\n",
        "1.  Este programa lee 3 calificaciones, calcule el promedio del alumno y desplegar un mensaje.\n",
        "\n",
        "Fecha: 26/02/2024"
      ],
      "metadata": {
        "id": "jflkbAosRaV5"
      }
    },
    {
      "cell_type": "code",
      "source": [
        "cal1 = input(\"Ingresa la primera calificación: \")\n",
        "cal2 = input(\"Ingresa la segunda calificación: \")\n",
        "cal3 = input(\"Ingresa la tercera calificación: \")\n",
        "\n",
        "try:\n",
        "    prom = (int(cal1) + int(cal2) + int(cal3)) / 3\n",
        "\n",
        "    if prom < 80:\n",
        "        if prom < 60:\n",
        "            if prom < 30:\n",
        "                print(\"Repetir\")\n",
        "            else:\n",
        "                print(\"Extraordinario\")\n",
        "        else:\n",
        "            if prom < 70:\n",
        "                print(\"Suficiente\")\n",
        "            else:\n",
        "                print(\"Regular\")\n",
        "    else:\n",
        "        if prom < 98:\n",
        "            if prom < 90:\n",
        "                print(\"Bien\")\n",
        "            else:\n",
        "                print(\"Muy bien\")\n",
        "        else:\n",
        "            if prom <= 100:\n",
        "                print(\"Exelente\")\n",
        "            else:\n",
        "                print(\"Error en promedio\")\n",
        "\n",
        "    print(\"Tu promedio es: \", prom)\n",
        "\n",
        "except ValueError:\n",
        "    print(\"Error: Los valores ingresados deben ser números enteros.\")"
      ],
      "metadata": {
        "id": "Wz-DsPbdQptc",
        "colab": {
          "base_uri": "https://localhost:8080/",
          "height": 0
        },
        "outputId": "c8280f19-73d1-4339-955a-9bdb780c7d42"
      },
      "execution_count": 26,
      "outputs": [
        {
          "output_type": "stream",
          "name": "stdout",
          "text": [
            "Ingresa la primera calificación: 90\n",
            "Ingresa la segunda calificación: abc\n",
            "Ingresa la tercera calificación: 60\n",
            "Error: Los valores ingresados deben ser números enteros.\n"
          ]
        }
      ]
    },
    {
      "cell_type": "markdown",
      "source": [
        "###ERA_PY_ACT4_02\n",
        "2.  Este programa calcula el salario semanal de un trabajador donde se obtiene como dato de entrada las horas semanales trabajadas, el salario por hora.\n",
        "\n",
        "Fecha: 26/02/2024"
      ],
      "metadata": {
        "id": "w9X2FpEJ6pFp"
      }
    },
    {
      "cell_type": "code",
      "source": [
        "try:\n",
        "    h_tra = int(input(\"Ingresa las horas semanales trabajadas: \"))\n",
        "    sal = float(input(\"Ingresa el salario por hora: \"))\n",
        "\n",
        "    if h_tra <= 40:\n",
        "        h_ext = 0\n",
        "        h_tri = 0\n",
        "    elif h_tra <= 49:\n",
        "        h_ext = h_tra - 40\n",
        "        h_tri = 0\n",
        "    else:\n",
        "        h_ext = 9\n",
        "        h_tri = h_tra -49\n",
        "\n",
        "    sal_nor = (h_tra - h_ext - h_tri) * sal\n",
        "    sal_ext = ( h_ext * 2 + h_tri * 3) * sal\n",
        "    sal_to = sal_nor + sal_ext\n",
        "\n",
        "    print(\"Salario por hora: \", sal)\n",
        "    print(\"Horas Trabajadas: \", h_tra)\n",
        "    print(\"Salario normal: \", sal_nor)\n",
        "    print(\"Salario extra: \", sal_ext)\n",
        "    print(\"Salario Total: \", sal_to)\n",
        "\n",
        "except ValueError as error:\n",
        "    if isinstance(error.args[0], str):\n",
        "        print(\"Error: El valor ingresado para las horas no es un número entero.\")\n",
        "    else:\n",
        "        print(\"Error: El valor ingresado para el salario no es un número decimal.\")"
      ],
      "metadata": {
        "colab": {
          "base_uri": "https://localhost:8080/",
          "height": 0
        },
        "id": "zV7hJLBN70lK",
        "outputId": "d007fedd-f9ff-4d0d-9984-5afde9d42b49"
      },
      "execution_count": 30,
      "outputs": [
        {
          "output_type": "stream",
          "name": "stdout",
          "text": [
            "Ingresa las horas semanales trabajadas: 55\n",
            "Ingresa el salario por hora: No me acuerdo\n",
            "Error: El valor ingresado para las horas no es un número entero.\n"
          ]
        }
      ]
    },
    {
      "cell_type": "markdown",
      "source": [
        "###ERA_PY_ACT4_03\n",
        "3.  Este programa calcuela el total a pagar por consumo de agua, donde el dato de entrada son los M3 de agua consumidos, Tomar en cuenta que se cobra escalonada.\n",
        "\n",
        "Fecha: 26/02/2024"
      ],
      "metadata": {
        "id": "wZhNY0lQABs0"
      }
    },
    {
      "cell_type": "code",
      "source": [
        "try:\n",
        "    m3 = int(input(\"Ingresa los M3 de agua consumidos: \"))\n",
        "\n",
        "    if m3 <= 4:\n",
        "        total = 50\n",
        "    elif m3 <= 15:\n",
        "        total = m3 * 8\n",
        "    elif m3 <= 50:\n",
        "        total = m3 * 10\n",
        "    else:\n",
        "        total = m3 *11\n",
        "\n",
        "    iva = total * 0.16\n",
        "\n",
        "    print(\"SubTotal $\", total)\n",
        "    print(\"IVA (16%) $\", iva)\n",
        "    print(\"Total: $\", total + iva)\n",
        "except ValueError:\n",
        "    print(\"Error: Los valores ingresados deben ser números enteros.\")"
      ],
      "metadata": {
        "colab": {
          "base_uri": "https://localhost:8080/",
          "height": 0
        },
        "id": "topS2jSCAd64",
        "outputId": "06221a71-fbf7-422b-f296-fb0f7699b570"
      },
      "execution_count": 31,
      "outputs": [
        {
          "output_type": "stream",
          "name": "stdout",
          "text": [
            "Ingresa los M3 de agua consumidos: 5.2\n",
            "Error: Los valores ingresados deben ser números enteros.\n"
          ]
        }
      ]
    },
    {
      "cell_type": "markdown",
      "source": [
        "###ERA_PY_ACT4_04\n",
        "4.  Este programa calcula el promedio final de la materia donde la calificación menor de los exámenes se anula y el promedio se calcula en base a 4 exámenes.\n",
        "\n",
        "Fecha: 26/02/2024"
      ],
      "metadata": {
        "id": "ou5Y9YTwBFgc"
      }
    },
    {
      "cell_type": "code",
      "source": [
        "try:\n",
        "    ex1 = int(input(\"Ingresa la calificación del examen 1: \"))\n",
        "    ex2 = int(input(\"Ingresa la calificación del examen 2: \"))\n",
        "    ex3 = int(input(\"Ingresa la calificación del examen 3: \"))\n",
        "    ex4 = int(input(\"Ingresa la calificación del examen 4: \"))\n",
        "    ex5 = int(input(\"Ingresa la calificación del examen 5: \"))\n",
        "\n",
        "    if ex1 < ex2:\n",
        "        aux = ex1\n",
        "        ex1 = ex2\n",
        "        ex2 = aux\n",
        "    if ex2 < ex3:\n",
        "        aux = ex2\n",
        "        ex2 = ex3\n",
        "        ex3 = aux\n",
        "    if ex3 < ex4:\n",
        "        aux = ex3\n",
        "        ex3 = ex4\n",
        "        ex3 = aux\n",
        "    if ex4 < ex5:\n",
        "        aux = ex4\n",
        "        ex4 = ex5\n",
        "        ex5 = aux\n",
        "\n",
        "    prom = (ex1 + ex2 + ex3 + ex4) / 4\n",
        "\n",
        "    print(\"Tu promedio final es: \", prom)\n",
        "\n",
        "except ValueError:\n",
        "        print(\"Error: Los valores ingresados deben ser números enteros.\")"
      ],
      "metadata": {
        "colab": {
          "base_uri": "https://localhost:8080/",
          "height": 0
        },
        "id": "C_bMghUZBfdX",
        "outputId": "88b1156a-6900-42bc-8605-c4866dc78dca"
      },
      "execution_count": 32,
      "outputs": [
        {
          "output_type": "stream",
          "name": "stdout",
          "text": [
            "Ingresa la calificación del examen 1: 90\n",
            "Ingresa la calificación del examen 2: 98\n",
            "Ingresa la calificación del examen 3: Tacos\n",
            "Error: Los valores ingresados deben ser números enteros.\n"
          ]
        }
      ]
    },
    {
      "cell_type": "markdown",
      "source": [
        "###ERA_PY_ACT4_05\n",
        "5.  Este programa funciona como el juego del CHINCHAMPU (Piedra, Papel, Tijera) para 1 jugador y la computadora.\n",
        "\n",
        "Fecha: 26/02/2024"
      ],
      "metadata": {
        "id": "4Ffv31bHNn1u"
      }
    },
    {
      "cell_type": "code",
      "source": [
        "try:\n",
        "    num = int(input(\"\\tBienbenido al juego del CHINCHAMPU (Piedra, Papel, Tijera) \\nIngresa el número que correspponda tu selección: \\n1. Piedra \\n2. Papel \\n3. Tijera \\n\"))\n",
        "\n",
        "    import random\n",
        "\n",
        "    num_ram = random.randint(1, 3)\n",
        "\n",
        "    if num == 1:\n",
        "        print(\"Piedra\")\n",
        "    elif num == 2:\n",
        "        print(\"Papel\")\n",
        "    elif num == 3:\n",
        "        print(\"Tijera\")\n",
        "    else:\n",
        "        print(\"Opción no valida intenta de nuevo \")\n",
        "\n",
        "    print(\"VS\")\n",
        "\n",
        "    if num_ram == 1:\n",
        "        print(\"Piedra\")\n",
        "    elif num_ram == 2:\n",
        "        print(\"Papel\")\n",
        "    else:\n",
        "        print(\"Tijera\")\n",
        "\n",
        "    if num == num_ram:\n",
        "        print(\"!Empate¡\")\n",
        "    elif num_ram == 1:\n",
        "        if num == 2:\n",
        "            print(\"Felicidades has ganado\")\n",
        "        else:\n",
        "            print(\"Has perdido mejor suerte para la próxima\")\n",
        "    elif num_ram == 2:\n",
        "        if num == 1:\n",
        "            print(\"Has perdido mejor suerte para la próxima\")\n",
        "        else:\n",
        "            print(\"Felicidades has ganado\")\n",
        "    else:\n",
        "        if num == 1:\n",
        "            print(\"Felicidades has ganado\")\n",
        "        else:\n",
        "            print(\"Has perdido mejor suerte para la próxima\")\n",
        "\n",
        "except ValueError:\n",
        "    print(\"Error: Los valores ingresados deben ser números enteros del 1 al 3.\")"
      ],
      "metadata": {
        "colab": {
          "base_uri": "https://localhost:8080/",
          "height": 0
        },
        "id": "zqbK6e3GOhqk",
        "outputId": "5ccae2db-a794-498b-da26-1f389a3d53d4"
      },
      "execution_count": 6,
      "outputs": [
        {
          "output_type": "stream",
          "name": "stdout",
          "text": [
            "\tBienbenido al juego del CHINCHAMPU (Piedra, Papel, Tijera) \n",
            "Ingresa el número que correspponda tu selección: \n",
            "1. Piedra \n",
            "2. Papel \n",
            "3. Tijera \n",
            "2\n",
            "Papel\n",
            "VS\n",
            "Tijera\n",
            "Has perdido mejor suerte para la próxima\n"
          ]
        }
      ]
    },
    {
      "cell_type": "markdown",
      "source": [
        "###ERA_PY_ACT4_06\n",
        "6.  Este programa lee 4 números enteros desplegar cuales el menor, cual es mayor.\n",
        "\n",
        "Fecha: 26/02/2024"
      ],
      "metadata": {
        "id": "wMbR9abnP1DL"
      }
    },
    {
      "cell_type": "code",
      "source": [
        "try:\n",
        "    n1 = int(input(\"Ingresa el primer número: \"))\n",
        "    n2 = int(input(\"Ingresa el segundo número: \"))\n",
        "    n3 = int(input(\"Ingresa el tercer número: \"))\n",
        "    n4 = int(input(\"Ingresa el cuarto número: \"))\n",
        "\n",
        "    me = n1\n",
        "    if me > n2:\n",
        "        me = n2\n",
        "    if me > n3:\n",
        "        me = n3\n",
        "    if me > n4:\n",
        "        me = n4\n",
        "    ma = n1\n",
        "    if ma < n2:\n",
        "        ma = n2\n",
        "    if ma < n3:\n",
        "        ma = n3\n",
        "    if ma < n4:\n",
        "        ma = n4\n",
        "\n",
        "    print(\"EL número menor es: \", me)\n",
        "    print(\"El número mayor es: \", ma)\n",
        "except ValueError:\n",
        "    print(\"Error: Los valores ingresados deben ser números enteros.\")"
      ],
      "metadata": {
        "colab": {
          "base_uri": "https://localhost:8080/",
          "height": 0
        },
        "id": "cZI4mbTQQDMv",
        "outputId": "f5bcd803-b96c-4ecd-c429-f555810e9157"
      },
      "execution_count": 35,
      "outputs": [
        {
          "output_type": "stream",
          "name": "stdout",
          "text": [
            "Ingresa el primer número: 1\n",
            "Ingresa el segundo número: 9\n",
            "Ingresa el tercer número: 3\n",
            "Ingresa el cuarto número: NUMERO.\n",
            "Error: Los valores ingresados deben ser números enteros.\n"
          ]
        }
      ]
    },
    {
      "cell_type": "markdown",
      "source": [
        "###ERA_PY_ACT4_07\n",
        "7.  Este programa calcula el área de un triangulo, los datos de entrada deben ser forzosamente de tipo real.\n",
        "\n",
        "Fecha: 26/02/2024"
      ],
      "metadata": {
        "id": "mmDStgb1VYfh"
      }
    },
    {
      "cell_type": "code",
      "source": [
        "try:\n",
        "    b = float(input(\"Ingresa la medida de la base del triángulo: \"))\n",
        "    h = float(input(\"Ingresa la medida de la altura: \"))\n",
        "\n",
        "    a = b * a / 2\n",
        "\n",
        "    print(\"EL área del triángulo es: \", a)\n",
        "\n",
        "except ValueError:\n",
        "    print(\"Error: Los valores ingresados deben ser números reales.\")"
      ],
      "metadata": {
        "id": "-ULTciQGWC1F"
      },
      "execution_count": null,
      "outputs": []
    },
    {
      "cell_type": "markdown",
      "source": [
        "###ERA_PY_ACT4_08\n",
        "8.  Este programa calcula el área de un circulo.\n",
        "\n",
        "Fecha: 26/02/2024"
      ],
      "metadata": {
        "id": "X2gR7jSikdho"
      }
    },
    {
      "cell_type": "code",
      "source": [
        "try:\n",
        "    r = float(input(\"Ingresa el radio del circulo:\"))\n",
        "\n",
        "    import math\n",
        "\n",
        "    a = math.pi * r ** 2\n",
        "\n",
        "    print(\"EL área del círculo es: \", a)\n",
        "\n",
        "except ValueError:\n",
        "    print(\"Error: Los valores ingresados deben ser números reales.\")"
      ],
      "metadata": {
        "colab": {
          "base_uri": "https://localhost:8080/",
          "height": 0
        },
        "id": "MFLZVmJXkw2A",
        "outputId": "d5ee43cf-795c-42ec-ac46-5efa1881bd4a"
      },
      "execution_count": 2,
      "outputs": [
        {
          "output_type": "stream",
          "name": "stdout",
          "text": [
            "Ingresa el radio del circulo:No se\n",
            "Error: Los valores ingresados deben ser números reales.\n"
          ]
        }
      ]
    }
  ]
}